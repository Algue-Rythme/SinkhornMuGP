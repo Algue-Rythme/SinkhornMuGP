{
  "cells": [
    {
      "cell_type": "code",
      "execution_count": null,
      "metadata": {
        "colab": {
          "base_uri": "https://localhost:8080/"
        },
        "id": "iHt8kepLXOTG",
        "outputId": "946731f4-966a-4f5a-ad55-9a412c6d2da9"
      },
      "outputs": [
        {
          "output_type": "stream",
          "name": "stdout",
          "text": [
            "Looking in indexes: https://pypi.org/simple, https://us-python.pkg.dev/colab-wheels/public/simple/\n",
            "Collecting jaxopt\n",
            "  Downloading jaxopt-0.4.3-py3-none-any.whl (125 kB)\n",
            "\u001b[K     |████████████████████████████████| 125 kB 8.6 MB/s \n",
            "\u001b[?25hRequirement already satisfied: scipy>=1.0.0 in /usr/local/lib/python3.7/dist-packages (from jaxopt) (1.7.3)\n",
            "Requirement already satisfied: numpy<1.23.0 in /usr/local/lib/python3.7/dist-packages (from jaxopt) (1.21.6)\n",
            "Requirement already satisfied: matplotlib>=2.0.1 in /usr/local/lib/python3.7/dist-packages (from jaxopt) (3.2.2)\n",
            "Requirement already satisfied: jax>=0.2.18 in /usr/local/lib/python3.7/dist-packages (from jaxopt) (0.3.14)\n",
            "Requirement already satisfied: absl-py>=0.7.0 in /usr/local/lib/python3.7/dist-packages (from jaxopt) (1.2.0)\n",
            "Requirement already satisfied: jaxlib>=0.1.69 in /usr/local/lib/python3.7/dist-packages (from jaxopt) (0.3.14+cuda11.cudnn805)\n",
            "Requirement already satisfied: opt-einsum in /usr/local/lib/python3.7/dist-packages (from jax>=0.2.18->jaxopt) (3.3.0)\n",
            "Requirement already satisfied: etils[epath] in /usr/local/lib/python3.7/dist-packages (from jax>=0.2.18->jaxopt) (0.7.1)\n",
            "Requirement already satisfied: typing-extensions in /usr/local/lib/python3.7/dist-packages (from jax>=0.2.18->jaxopt) (4.1.1)\n",
            "Requirement already satisfied: flatbuffers<3.0,>=1.12 in /usr/local/lib/python3.7/dist-packages (from jaxlib>=0.1.69->jaxopt) (2.0)\n",
            "Requirement already satisfied: pyparsing!=2.0.4,!=2.1.2,!=2.1.6,>=2.0.1 in /usr/local/lib/python3.7/dist-packages (from matplotlib>=2.0.1->jaxopt) (3.0.9)\n",
            "Requirement already satisfied: cycler>=0.10 in /usr/local/lib/python3.7/dist-packages (from matplotlib>=2.0.1->jaxopt) (0.11.0)\n",
            "Requirement already satisfied: python-dateutil>=2.1 in /usr/local/lib/python3.7/dist-packages (from matplotlib>=2.0.1->jaxopt) (2.8.2)\n",
            "Requirement already satisfied: kiwisolver>=1.0.1 in /usr/local/lib/python3.7/dist-packages (from matplotlib>=2.0.1->jaxopt) (1.4.4)\n",
            "Requirement already satisfied: six>=1.5 in /usr/local/lib/python3.7/dist-packages (from python-dateutil>=2.1->matplotlib>=2.0.1->jaxopt) (1.15.0)\n",
            "Requirement already satisfied: zipp in /usr/local/lib/python3.7/dist-packages (from etils[epath]->jax>=0.2.18->jaxopt) (3.8.1)\n",
            "Requirement already satisfied: importlib_resources in /usr/local/lib/python3.7/dist-packages (from etils[epath]->jax>=0.2.18->jaxopt) (5.9.0)\n",
            "Installing collected packages: jaxopt\n",
            "Successfully installed jaxopt-0.4.3\n",
            "Looking in indexes: https://pypi.org/simple, https://us-python.pkg.dev/colab-wheels/public/simple/\n",
            "Collecting ott-jax\n",
            "  Downloading ott_jax-0.2.8-py3-none-any.whl (153 kB)\n",
            "\u001b[K     |████████████████████████████████| 153 kB 5.9 MB/s \n",
            "\u001b[?25hCollecting flax>=0.3.6\n",
            "  Downloading flax-0.6.0-py3-none-any.whl (180 kB)\n",
            "\u001b[K     |████████████████████████████████| 180 kB 46.8 MB/s \n",
            "\u001b[?25hRequirement already satisfied: absl-py>=0.7.0 in /usr/local/lib/python3.7/dist-packages (from ott-jax) (1.2.0)\n",
            "Requirement already satisfied: numpy!=1.23.0,>=1.18.4 in /usr/local/lib/python3.7/dist-packages (from ott-jax) (1.21.6)\n",
            "Requirement already satisfied: importlib-metadata>=1.0 in /usr/local/lib/python3.7/dist-packages (from ott-jax) (4.12.0)\n",
            "Requirement already satisfied: matplotlib>=2.0.1 in /usr/local/lib/python3.7/dist-packages (from ott-jax) (3.2.2)\n",
            "Requirement already satisfied: jax>=0.1.67 in /usr/local/lib/python3.7/dist-packages (from ott-jax) (0.3.14)\n",
            "Collecting PyYAML>=6.0\n",
            "  Downloading PyYAML-6.0-cp37-cp37m-manylinux_2_5_x86_64.manylinux1_x86_64.manylinux_2_12_x86_64.manylinux2010_x86_64.whl (596 kB)\n",
            "\u001b[K     |████████████████████████████████| 596 kB 42.6 MB/s \n",
            "\u001b[?25hRequirement already satisfied: typing-extensions in /usr/local/lib/python3.7/dist-packages (from ott-jax) (4.1.1)\n",
            "Requirement already satisfied: jaxlib>=0.1.47 in /usr/local/lib/python3.7/dist-packages (from ott-jax) (0.3.14+cuda11.cudnn805)\n",
            "Collecting optax>=0.1.1\n",
            "  Downloading optax-0.1.3-py3-none-any.whl (145 kB)\n",
            "\u001b[K     |████████████████████████████████| 145 kB 45.9 MB/s \n",
            "\u001b[?25hCollecting rich~=11.1\n",
            "  Downloading rich-11.2.0-py3-none-any.whl (217 kB)\n",
            "\u001b[K     |████████████████████████████████| 217 kB 46.4 MB/s \n",
            "\u001b[?25hRequirement already satisfied: msgpack in /usr/local/lib/python3.7/dist-packages (from flax>=0.3.6->ott-jax) (1.0.4)\n",
            "Collecting jax>=0.1.67\n",
            "  Downloading jax-0.3.16.tar.gz (1.0 MB)\n",
            "\u001b[K     |████████████████████████████████| 1.0 MB 2.3 MB/s \n",
            "\u001b[?25hRequirement already satisfied: zipp>=0.5 in /usr/local/lib/python3.7/dist-packages (from importlib-metadata>=1.0->ott-jax) (3.8.1)\n",
            "Requirement already satisfied: opt_einsum in /usr/local/lib/python3.7/dist-packages (from jax>=0.1.67->ott-jax) (3.3.0)\n",
            "Requirement already satisfied: scipy>=1.5 in /usr/local/lib/python3.7/dist-packages (from jax>=0.1.67->ott-jax) (1.7.3)\n",
            "Requirement already satisfied: etils[epath] in /usr/local/lib/python3.7/dist-packages (from jax>=0.1.67->ott-jax) (0.7.1)\n",
            "Requirement already satisfied: flatbuffers<3.0,>=1.12 in /usr/local/lib/python3.7/dist-packages (from jaxlib>=0.1.47->ott-jax) (2.0)\n",
            "Requirement already satisfied: python-dateutil>=2.1 in /usr/local/lib/python3.7/dist-packages (from matplotlib>=2.0.1->ott-jax) (2.8.2)\n",
            "Requirement already satisfied: pyparsing!=2.0.4,!=2.1.2,!=2.1.6,>=2.0.1 in /usr/local/lib/python3.7/dist-packages (from matplotlib>=2.0.1->ott-jax) (3.0.9)\n",
            "Requirement already satisfied: cycler>=0.10 in /usr/local/lib/python3.7/dist-packages (from matplotlib>=2.0.1->ott-jax) (0.11.0)\n",
            "Requirement already satisfied: kiwisolver>=1.0.1 in /usr/local/lib/python3.7/dist-packages (from matplotlib>=2.0.1->ott-jax) (1.4.4)\n",
            "Collecting chex>=0.0.4\n",
            "  Downloading chex-0.1.4-py3-none-any.whl (76 kB)\n",
            "\u001b[K     |████████████████████████████████| 76 kB 4.1 MB/s \n",
            "\u001b[?25hRequirement already satisfied: toolz>=0.9.0 in /usr/local/lib/python3.7/dist-packages (from chex>=0.0.4->optax>=0.1.1->ott-jax) (0.12.0)\n",
            "Requirement already satisfied: dm-tree>=0.1.5 in /usr/local/lib/python3.7/dist-packages (from chex>=0.0.4->optax>=0.1.1->ott-jax) (0.1.7)\n",
            "Requirement already satisfied: six>=1.5 in /usr/local/lib/python3.7/dist-packages (from python-dateutil>=2.1->matplotlib>=2.0.1->ott-jax) (1.15.0)\n",
            "Collecting commonmark<0.10.0,>=0.9.0\n",
            "  Downloading commonmark-0.9.1-py2.py3-none-any.whl (51 kB)\n",
            "\u001b[K     |████████████████████████████████| 51 kB 2.2 MB/s \n",
            "\u001b[?25hRequirement already satisfied: pygments<3.0.0,>=2.6.0 in /usr/local/lib/python3.7/dist-packages (from rich~=11.1->flax>=0.3.6->ott-jax) (2.6.1)\n",
            "Collecting colorama<0.5.0,>=0.4.0\n",
            "  Downloading colorama-0.4.5-py2.py3-none-any.whl (16 kB)\n",
            "Requirement already satisfied: importlib_resources in /usr/local/lib/python3.7/dist-packages (from etils[epath]->jax>=0.1.67->ott-jax) (5.9.0)\n",
            "Building wheels for collected packages: jax\n",
            "  Building wheel for jax (setup.py) ... \u001b[?25l\u001b[?25hdone\n",
            "  Created wheel for jax: filename=jax-0.3.16-py3-none-any.whl size=1197715 sha256=dce45423b77df66490f1c15f879d57984d2ba305e8e3906e5f2c7ca9e51bdb18\n",
            "  Stored in directory: /root/.cache/pip/wheels/b9/0d/a2/2091279bf29b90a2211a271f6f006ef13a656211a9e69ba1e3\n",
            "Successfully built jax\n",
            "Installing collected packages: jax, commonmark, colorama, chex, rich, PyYAML, optax, flax, ott-jax\n",
            "  Attempting uninstall: jax\n",
            "    Found existing installation: jax 0.3.14\n",
            "    Uninstalling jax-0.3.14:\n",
            "      Successfully uninstalled jax-0.3.14\n",
            "  Attempting uninstall: PyYAML\n",
            "    Found existing installation: PyYAML 3.13\n",
            "    Uninstalling PyYAML-3.13:\n",
            "      Successfully uninstalled PyYAML-3.13\n",
            "Successfully installed PyYAML-6.0 chex-0.1.4 colorama-0.4.5 commonmark-0.9.1 flax-0.6.0 jax-0.3.16 optax-0.1.3 ott-jax-0.2.8 rich-11.2.0\n"
          ]
        }
      ],
      "source": [
        "!pip install jaxopt\n",
        "!pip install ott-jax"
      ]
    },
    {
      "cell_type": "code",
      "execution_count": null,
      "metadata": {
        "id": "i3wErVmOdylu"
      },
      "outputs": [],
      "source": [
        "import jax\n",
        "from jax.scipy.sparse.linalg import gmres\n",
        "from jax.lax import custom_linear_solve\n",
        "from jax.numpy.linalg import slogdet\n",
        "import jax.numpy as jnp"
      ]
    },
    {
      "cell_type": "code",
      "execution_count": null,
      "metadata": {
        "id": "j7ZlM04LLYrM"
      },
      "outputs": [],
      "source": [
        "# again, this only works on startup!\n",
        "from jax.config import config\n",
        "config.update(\"jax_enable_x64\", True)"
      ]
    },
    {
      "cell_type": "markdown",
      "metadata": {
        "id": "mDyyoNUMsdW5"
      },
      "source": [
        "## GP Process Regression"
      ]
    },
    {
      "cell_type": "code",
      "execution_count": null,
      "metadata": {
        "id": "G8YHrf6scYa7"
      },
      "outputs": [],
      "source": [
        "def gp_regression_likelihood(Kxx, y, lbda):\n",
        "  \"\"\" Compute Gaussian Process regression.\n",
        "  \n",
        "  Source: https://math.stackexchange.com/questions/1030534/gradients-of-marginal-likelihood-of-gaussian-process-with-squared-exponential-co\n",
        "\n",
        "  -0.5 log det (K) - 0.5 y^t K_inv y - N/2 log 2pi\n",
        "  with K_inv = K^{-1}\n",
        "  \n",
        "  Consistency of K required to ensure the inverse exists.  \n",
        "  \"\"\"\n",
        "  # data fitting term\n",
        "  tol = 1e-7\n",
        "  maxiter = 5000\n",
        "\n",
        "  def matvec_Kxx(b):\n",
        "    return jnp.dot(Kxx, b) + (lbda**2)*b\n",
        "  \n",
        "  def solver_fun(matvec, b):\n",
        "    return jax.scipy.sparse.linalg.cg(matvec, b, tol=tol, maxiter=maxiter)[0]\n",
        "  \n",
        "  K_inv_y = custom_linear_solve(matvec_Kxx, y, solve=solver_fun, symmetric=True)\n",
        "  y_K_inv_y = - 0.5 * jnp.dot(y, K_inv_y)\n",
        "\n",
        "  # cste : play no role in optimization\n",
        "  N = y.shape[0]\n",
        "  cste = - 0.5 * N * jnp.log(2 * jnp.pi)\n",
        "\n",
        "  # regularization\n",
        "  # derivative: https://github.com/google/jax/blob/de464fcf22c8bf7a2931182f8095bc01530df9fe/jax/_src/numpy/linalg.py#L190\n",
        "  sign, log_abs_det = slogdet(Kxx + + (lbda**2)*jnp.eye(len(Kxx))) \n",
        "  log_det_value = - 0.5 * log_abs_det\n",
        "  \n",
        "  log_marginal_likelihood = log_det_value + y_K_inv_y + cste\n",
        "  return log_marginal_likelihood"
      ]
    },
    {
      "cell_type": "code",
      "execution_count": null,
      "metadata": {
        "id": "THuLMnAK3wT8"
      },
      "outputs": [],
      "source": [
        "# Based on https://arxiv.org/pdf/2009.10862.pdf\n",
        "# \"An Intuitive Tutorial to Gaussian Processes Regression\"\n",
        "\n",
        "def gp_process_prediction(kernel_fun, kernel_params, X_train, X_test, Y_train, lbda):\n",
        "  \"\"\"Cheap implementation of GP prediction based on Kernel matrix inverse.\"\"\"\n",
        "  X = jnp.concatenate([X_train, X_test], axis=0)\n",
        "  K = kernel_fun(X, kernel_params)\n",
        "  train_sl = slice(None, len(X_train), None)\n",
        "  test_sl = slice(len(X_train), None, None)\n",
        "\n",
        "  Kxx = K[train_sl,train_sl] + (lbda**2)*jnp.eye(len(X_train))\n",
        "  inv_Kxx = jnp.linalg.inv(Kxx)\n",
        "  Kzx = K[test_sl,train_sl]\n",
        "  \n",
        "  Y_pred = Kzx @ (inv_Kxx @ Y_train)\n",
        "  Y_covar = K[test_sl,test_sl] - Kzx @ inv_Kxx @ Kzx.T\n",
        "  Y_var = jnp.diag(Y_covar)\n",
        "  return Y_pred, Y_var"
      ]
    },
    {
      "cell_type": "code",
      "execution_count": null,
      "metadata": {
        "id": "KBrBnbKtdF0P"
      },
      "outputs": [],
      "source": [
        "from jaxopt import OptaxSolver, LBFGS\n",
        "import optax\n",
        "from jaxopt.tree_util import tree_map, tree_sum, tree_sub, tree_scalar_mul, tree_add\n",
        "\n",
        "def log_barrier(params, bounds):\n",
        "  l_bounds, u_bounds = bounds\n",
        "  clipped = tree_map(jnp.clip, params, l_bounds, u_bounds)\n",
        "  eps_leaves = tree_scalar_mul(1e-3, tree_sub(u_bounds, l_bounds))\n",
        "  l_loss = tree_map(lambda leaf, l, eps: jnp.log(leaf - l + eps), clipped, l_bounds, eps_leaves)\n",
        "  u_loss = tree_map(lambda leaf, u, eps: jnp.log(u - leaf + eps), clipped, u_bounds, eps_leaves)\n",
        "  loss = tree_sum(tree_add(l_loss, u_loss))\n",
        "  return loss\n",
        "\n",
        "\n",
        "def optimize_gpr(kernel_fun, log_bounds, X_train, X_test, y_train, y_test, lbda,\n",
        "                 maxiter=1000, tol=1e-3, projected=False, verbose=False):\n",
        "  bounds = tuple(map(lambda d: {('log_'+k):jnp.log(v) for k, v in d.items()}, log_bounds))\n",
        "  kernel_params = kernel_fun.init_log_params()\n",
        "\n",
        "  def gpr_step(kernel_params):\n",
        "    if projected:\n",
        "      kernel_params = tree_map(jnp.clip, kernel_params, bounds[0], bounds[1])\n",
        "    Kxx = kernel_fun(X_train, kernel_params)\n",
        "    loss = -gp_regression_likelihood(Kxx, y_train, lbda)\n",
        "    return loss, Kxx\n",
        "\n",
        "  # optax_opt = optax.sgd(learning_rate=1e-2)\n",
        "  # opt = OptaxSolver(fun=gpr_step, opt=optax_opt, has_aux=True, maxiter=maxiter, tol=tol)\n",
        "  opt = LBFGS(fun=gpr_step, has_aux=True, maxiter=maxiter, tol=tol, maxls=20)\n",
        "  \n",
        "  if verbose:\n",
        "\n",
        "    state = opt.init_state(kernel_params)\n",
        "\n",
        "    @jax.jit\n",
        "    def opt_update(kernel_params, state):\n",
        "      return opt.update(kernel_params, state)\n",
        "\n",
        "    for step in range(maxiter):\n",
        "      kernel_params, state = opt_update(kernel_params, state)\n",
        "      if projected:\n",
        "        kernel_params = tree_map(jnp.clip, kernel_params, bounds[0], bounds[1])\n",
        "      Kxx = state.aux\n",
        "      preds, _ = gp_process_prediction(kernel_fun, kernel_params, X_train, X_test, y_train, lbda)\n",
        "      mse = jnp.mean((preds - y_test)**2)\n",
        "      print_params = {k: f\"{v:.3f}\" for k, v in kernel_fun.get_params(kernel_params).items()}\n",
        "      print(f\"[{step+1}] error={state.error:.3f} mse={mse:.3f} loss={state.value:.3f} params={print_params} CondNumber={jnp.linalg.cond(Kxx)}\")\n",
        "\n",
        "  else:\n",
        "    kernel_params, state = opt.run(kernel_params)\n",
        "    Kxx = state.aux\n",
        "    preds, _ = gp_process_prediction(kernel_fun, kernel_params, X_train, X_test, y_train, lbda)\n",
        "    mse = jnp.mean((preds - y_test)**2)\n",
        "    print_params = {k: f\"{v:.3f}\" for k, v in kernel_fun.get_params(kernel_params).items()}\n",
        "    print(f\"[{state.iter_num}] error={state.error:.3f} mse={mse:.3f} loss={state.value:.3f} params={print_params} CondNumber={jnp.linalg.cond(Kxx)}\")\n",
        "\n",
        "  return kernel_params"
      ]
    },
    {
      "cell_type": "markdown",
      "metadata": {
        "id": "hRx43HmisgbP"
      },
      "source": [
        "## Kernels"
      ]
    },
    {
      "cell_type": "code",
      "execution_count": null,
      "metadata": {
        "id": "ymWrxdUON-VP"
      },
      "outputs": [],
      "source": [
        "from os import X_OK\n",
        "from dataclasses import dataclass\n",
        "\n",
        "\n",
        "@dataclass\n",
        "class RBF_Kernel:\n",
        "  \"\"\" RBF Kernel class.\n",
        "\n",
        "  Attributes:\n",
        "    gamma: nature of gamma scaling (default: 'scale').\n",
        "      Mimic sklearn.svm.SVC behavior.\n",
        "      'scale': 1 / (X.var() * n_features)\n",
        "      'auto' : default value of 1\n",
        "  \"\"\"\n",
        "  gamma: str = 'scale'\n",
        "\n",
        "  def __post_init__(self):\n",
        "    if self.gamma not in ['auto', 'scale']:\n",
        "      raise ValueError(f\"Unrecognized value {self.gamma} for gamma\")\n",
        "\n",
        "  def init_log_params(self):\n",
        "    theta = jnp.array(0.)\n",
        "    inv_sigma = jnp.array(0.)\n",
        "    return {'log_theta': theta, 'log_sigma': inv_sigma}\n",
        "\n",
        "  def get_params(self, log_params):\n",
        "    return {k[len('log_'):]:jnp.exp(v) for k,v in log_params.items()}\n",
        "\n",
        "  def _set_diag_1(self, m):\n",
        "    i, j = jnp.diag_indices(len(m))\n",
        "    m = m.at[i,j].set(1.)\n",
        "    return m\n",
        "\n",
        "  def __call__(self, X, kernel_params):\n",
        "    if self.gamma == 'scale':\n",
        "      scale = jnp.var(X) * X.shape[1]  # sklearn.SVC behavior\n",
        "    elif self.gamma == 'auto':\n",
        "      scale = 1.\n",
        "    X = X / jnp.exp(kernel_params['log_sigma'])\n",
        "    energy = jnp.sum((X[:,jnp.newaxis,:] - X[jnp.newaxis,:,:])**2, axis=-1)\n",
        "    gamma = 0.5 / scale\n",
        "    K = jnp.exp(-energy * gamma)\n",
        "    K = self._set_diag_1(K)\n",
        "    K_scalar = (jnp.exp(kernel_params['log_theta'])**2) * K\n",
        "    return K_scalar"
      ]
    },
    {
      "cell_type": "markdown",
      "metadata": {
        "id": "IWG5H3T_tYVl"
      },
      "source": [
        "## GP regression tests"
      ]
    },
    {
      "cell_type": "code",
      "execution_count": null,
      "metadata": {
        "colab": {
          "base_uri": "https://localhost:8080/",
          "height": 295
        },
        "id": "owR4FMYPtdRC",
        "outputId": "1aefac3f-43b9-45e1-d9f9-194858fb7695"
      },
      "outputs": [
        {
          "output_type": "display_data",
          "data": {
            "text/plain": [
              "<Figure size 432x288 with 1 Axes>"
            ],
            "image/png": "[encoded data removed]"
          },
          "metadata": {
            "needs_background": "light"
          }
        }
      ],
      "source": [
        "import numpy as onp\n",
        "import matplotlib.pyplot as plt\n",
        "\n",
        "X = onp.linspace(start=0, stop=10, num=1_000).reshape(-1, 1)\n",
        "y = onp.squeeze(X * onp.sin(X))\n",
        "# y = (y - y.mean()) / y.std()\n",
        "\n",
        "plt.plot(X, y, label=r\"$f(x) = x \\sin(x)$\", linestyle=\"dotted\")\n",
        "plt.legend()\n",
        "plt.xlabel(\"$x$\")\n",
        "plt.ylabel(\"$f(x)$\")\n",
        "_ = plt.title(\"True generative process\")"
      ]
    },
    {
      "cell_type": "code",
      "execution_count": null,
      "metadata": {
        "id": "BKXOWz0bvN8p"
      },
      "outputs": [],
      "source": [
        "rng = onp.random.RandomState(1)\n",
        "training_indices = rng.choice(onp.arange(y.size), size=20, replace=False)\n",
        "X_train, y_train = X[training_indices], y[training_indices]"
      ]
    },
    {
      "cell_type": "code",
      "execution_count": null,
      "metadata": {
        "colab": {
          "base_uri": "https://localhost:8080/"
        },
        "id": "LfblPXAmFaal",
        "outputId": "3ff4cc0a-f5db-4844-fac7-62937731bb3b"
      },
      "outputs": [
        {
          "output_type": "stream",
          "name": "stderr",
          "text": [
            "/usr/local/lib/python3.7/dist-packages/sklearn/gaussian_process/_gpr.py:610: ConvergenceWarning: lbfgs failed to converge (status=2):\n",
            "ABNORMAL_TERMINATION_IN_LNSRCH.\n",
            "\n",
            "Increase the number of iterations (max_iter) or scale the data as shown in:\n",
            "    https://scikit-learn.org/stable/modules/preprocessing.html\n",
            "  _check_optimize_result(\"lbfgs\", opt_res)\n",
            "WARNING:absl:No GPU/TPU found, falling back to CPU. (Set TF_CPP_MIN_LOG_LEVEL=0 and rerun for more info.)\n"
          ]
        },
        {
          "output_type": "stream",
          "name": "stdout",
          "text": [
            "Condition number: 3.915460289332299e+17\n",
            "Params: 28.9**2 * RBF(length_scale=3.05)\n",
            "Log Marginal Likelihood: 67.04874239268894\n"
          ]
        }
      ],
      "source": [
        "from sklearn.gaussian_process import GaussianProcessRegressor\n",
        "from sklearn.gaussian_process.kernels import RBF\n",
        "\n",
        "sk_kernel = 1 * RBF(length_scale=1.0, length_scale_bounds=(1e-2, 1e2))\n",
        "gaussian_process = GaussianProcessRegressor(kernel=sk_kernel, n_restarts_optimizer=9)\n",
        "gaussian_process.fit(X_train, y_train)\n",
        "print('Condition number:', jnp.linalg.cond(gaussian_process.kernel_(X_train)))\n",
        "print('Params:', gaussian_process.kernel_)\n",
        "onp.set_printoptions(precision=6)\n",
        "if len(X_train) <= 10:\n",
        "  print('Kernel:', gaussian_process.kernel_(X_train))\n",
        "onp.set_printoptions(precision=4)\n",
        "print('Log Marginal Likelihood:', gaussian_process.log_marginal_likelihood_value_)"
      ]
    },
    {
      "cell_type": "code",
      "execution_count": null,
      "metadata": {
        "colab": {
          "base_uri": "https://localhost:8080/",
          "height": 372
        },
        "id": "ixNidTAi6xEq",
        "outputId": "1db0a975-f3e3-452d-c5be-69ad57038796"
      },
      "outputs": [
        {
          "output_type": "stream",
          "name": "stdout",
          "text": [
            "[1] error=0.000 mse=4.422 loss=54.722 params={'sigma': '0.100', 'theta': '10.000'} CondNumber=9.380591633761729e+18\n"
          ]
        },
        {
          "output_type": "error",
          "ename": "KeyboardInterrupt",
          "evalue": "ignored",
          "traceback": [
            "\u001b[0;31m---------------------------------------------------------------------------\u001b[0m",
            "\u001b[0;31mKeyboardInterrupt\u001b[0m                         Traceback (most recent call last)",
            "\u001b[0;32m<ipython-input-10-79957621d377>\u001b[0m in \u001b[0;36m<module>\u001b[0;34m\u001b[0m\n\u001b[1;32m      2\u001b[0m \u001b[0mlbda\u001b[0m \u001b[0;34m=\u001b[0m \u001b[0;36m0.05\u001b[0m\u001b[0;34m**\u001b[0m\u001b[0;36m0.5\u001b[0m\u001b[0;34m\u001b[0m\u001b[0;34m\u001b[0m\u001b[0m\n\u001b[1;32m      3\u001b[0m \u001b[0mlog_bounds\u001b[0m \u001b[0;34m=\u001b[0m \u001b[0;34m{\u001b[0m\u001b[0;34m'theta'\u001b[0m\u001b[0;34m:\u001b[0m \u001b[0mjnp\u001b[0m\u001b[0;34m.\u001b[0m\u001b[0marray\u001b[0m\u001b[0;34m(\u001b[0m\u001b[0;36m1e-2\u001b[0m\u001b[0;34m)\u001b[0m\u001b[0;34m,\u001b[0m \u001b[0;34m'sigma'\u001b[0m\u001b[0;34m:\u001b[0m \u001b[0mjnp\u001b[0m\u001b[0;34m.\u001b[0m\u001b[0marray\u001b[0m\u001b[0;34m(\u001b[0m\u001b[0;36m1e-1\u001b[0m\u001b[0;34m)\u001b[0m\u001b[0;34m}\u001b[0m\u001b[0;34m,\u001b[0m \u001b[0;34m{\u001b[0m\u001b[0;34m'theta'\u001b[0m\u001b[0;34m:\u001b[0m \u001b[0mjnp\u001b[0m\u001b[0;34m.\u001b[0m\u001b[0marray\u001b[0m\u001b[0;34m(\u001b[0m\u001b[0;36m1e1\u001b[0m\u001b[0;34m)\u001b[0m\u001b[0;34m,\u001b[0m \u001b[0;34m'sigma'\u001b[0m\u001b[0;34m:\u001b[0m \u001b[0mjnp\u001b[0m\u001b[0;34m.\u001b[0m\u001b[0marray\u001b[0m\u001b[0;34m(\u001b[0m\u001b[0;36m1e2\u001b[0m\u001b[0;34m)\u001b[0m\u001b[0;34m}\u001b[0m\u001b[0;34m\u001b[0m\u001b[0;34m\u001b[0m\u001b[0m\n\u001b[0;32m----> 4\u001b[0;31m \u001b[0mkernel_params\u001b[0m \u001b[0;34m=\u001b[0m \u001b[0moptimize_gpr\u001b[0m\u001b[0;34m(\u001b[0m\u001b[0mkernel\u001b[0m\u001b[0;34m,\u001b[0m \u001b[0mlog_bounds\u001b[0m\u001b[0;34m,\u001b[0m \u001b[0mX_train\u001b[0m\u001b[0;34m,\u001b[0m \u001b[0mX\u001b[0m\u001b[0;34m,\u001b[0m \u001b[0my_train\u001b[0m\u001b[0;34m,\u001b[0m \u001b[0my\u001b[0m\u001b[0;34m,\u001b[0m \u001b[0mlbda\u001b[0m\u001b[0;34m=\u001b[0m\u001b[0mlbda\u001b[0m\u001b[0;34m,\u001b[0m \u001b[0mmaxiter\u001b[0m\u001b[0;34m=\u001b[0m\u001b[0;36m100\u001b[0m\u001b[0;34m,\u001b[0m \u001b[0mverbose\u001b[0m\u001b[0;34m=\u001b[0m\u001b[0;32mTrue\u001b[0m\u001b[0;34m,\u001b[0m \u001b[0mprojected\u001b[0m\u001b[0;34m=\u001b[0m\u001b[0;32mTrue\u001b[0m\u001b[0;34m)\u001b[0m\u001b[0;34m\u001b[0m\u001b[0;34m\u001b[0m\u001b[0m\n\u001b[0m",
            "\u001b[0;32m<ipython-input-5-d8b93db66544>\u001b[0m in \u001b[0;36moptimize_gpr\u001b[0;34m(kernel_fun, log_bounds, X_train, X_test, y_train, y_test, lbda, maxiter, tol, projected, verbose)\u001b[0m\n\u001b[1;32m     38\u001b[0m \u001b[0;34m\u001b[0m\u001b[0m\n\u001b[1;32m     39\u001b[0m     \u001b[0;32mfor\u001b[0m \u001b[0mstep\u001b[0m \u001b[0;32min\u001b[0m \u001b[0mrange\u001b[0m\u001b[0;34m(\u001b[0m\u001b[0mmaxiter\u001b[0m\u001b[0;34m)\u001b[0m\u001b[0;34m:\u001b[0m\u001b[0;34m\u001b[0m\u001b[0;34m\u001b[0m\u001b[0m\n\u001b[0;32m---> 40\u001b[0;31m       \u001b[0mkernel_params\u001b[0m\u001b[0;34m,\u001b[0m \u001b[0mstate\u001b[0m \u001b[0;34m=\u001b[0m \u001b[0mopt_update\u001b[0m\u001b[0;34m(\u001b[0m\u001b[0mkernel_params\u001b[0m\u001b[0;34m,\u001b[0m \u001b[0mstate\u001b[0m\u001b[0;34m)\u001b[0m\u001b[0;34m\u001b[0m\u001b[0;34m\u001b[0m\u001b[0m\n\u001b[0m\u001b[1;32m     41\u001b[0m       \u001b[0;32mif\u001b[0m \u001b[0mprojected\u001b[0m\u001b[0;34m:\u001b[0m\u001b[0;34m\u001b[0m\u001b[0;34m\u001b[0m\u001b[0m\n\u001b[1;32m     42\u001b[0m         \u001b[0mkernel_params\u001b[0m \u001b[0;34m=\u001b[0m \u001b[0mtree_map\u001b[0m\u001b[0;34m(\u001b[0m\u001b[0mjnp\u001b[0m\u001b[0;34m.\u001b[0m\u001b[0mclip\u001b[0m\u001b[0;34m,\u001b[0m \u001b[0mkernel_params\u001b[0m\u001b[0;34m,\u001b[0m \u001b[0mbounds\u001b[0m\u001b[0;34m[\u001b[0m\u001b[0;36m0\u001b[0m\u001b[0;34m]\u001b[0m\u001b[0;34m,\u001b[0m \u001b[0mbounds\u001b[0m\u001b[0;34m[\u001b[0m\u001b[0;36m1\u001b[0m\u001b[0;34m]\u001b[0m\u001b[0;34m)\u001b[0m\u001b[0;34m\u001b[0m\u001b[0;34m\u001b[0m\u001b[0m\n",
            "\u001b[0;32m/usr/local/lib/python3.7/dist-packages/jax/_src/traceback_util.py\u001b[0m in \u001b[0;36mreraise_with_filtered_traceback\u001b[0;34m(*args, **kwargs)\u001b[0m\n\u001b[1;32m    160\u001b[0m     \u001b[0m__tracebackhide__\u001b[0m \u001b[0;34m=\u001b[0m \u001b[0;32mTrue\u001b[0m\u001b[0;34m\u001b[0m\u001b[0;34m\u001b[0m\u001b[0m\n\u001b[1;32m    161\u001b[0m     \u001b[0;32mtry\u001b[0m\u001b[0;34m:\u001b[0m\u001b[0;34m\u001b[0m\u001b[0;34m\u001b[0m\u001b[0m\n\u001b[0;32m--> 162\u001b[0;31m       \u001b[0;32mreturn\u001b[0m \u001b[0mfun\u001b[0m\u001b[0;34m(\u001b[0m\u001b[0;34m*\u001b[0m\u001b[0margs\u001b[0m\u001b[0;34m,\u001b[0m \u001b[0;34m**\u001b[0m\u001b[0mkwargs\u001b[0m\u001b[0;34m)\u001b[0m\u001b[0;34m\u001b[0m\u001b[0;34m\u001b[0m\u001b[0m\n\u001b[0m\u001b[1;32m    163\u001b[0m     \u001b[0;32mexcept\u001b[0m \u001b[0mException\u001b[0m \u001b[0;32mas\u001b[0m \u001b[0me\u001b[0m\u001b[0;34m:\u001b[0m\u001b[0;34m\u001b[0m\u001b[0;34m\u001b[0m\u001b[0m\n\u001b[1;32m    164\u001b[0m       \u001b[0mmode\u001b[0m \u001b[0;34m=\u001b[0m \u001b[0mfiltering_mode\u001b[0m\u001b[0;34m(\u001b[0m\u001b[0;34m)\u001b[0m\u001b[0;34m\u001b[0m\u001b[0;34m\u001b[0m\u001b[0m\n",
            "\u001b[0;32m/usr/local/lib/python3.7/dist-packages/jax/_src/api.py\u001b[0m in \u001b[0;36mcache_miss\u001b[0;34m(*args, **kwargs)\u001b[0m\n\u001b[1;32m    528\u001b[0m         \u001b[0mflat_fun\u001b[0m\u001b[0;34m,\u001b[0m \u001b[0;34m*\u001b[0m\u001b[0margs_flat\u001b[0m\u001b[0;34m,\u001b[0m\u001b[0;34m\u001b[0m\u001b[0;34m\u001b[0m\u001b[0m\n\u001b[1;32m    529\u001b[0m         \u001b[0mdevice\u001b[0m\u001b[0;34m=\u001b[0m\u001b[0mdevice\u001b[0m\u001b[0;34m,\u001b[0m \u001b[0mbackend\u001b[0m\u001b[0;34m=\u001b[0m\u001b[0mbackend\u001b[0m\u001b[0;34m,\u001b[0m \u001b[0mname\u001b[0m\u001b[0;34m=\u001b[0m\u001b[0mflat_fun\u001b[0m\u001b[0;34m.\u001b[0m\u001b[0m__name__\u001b[0m\u001b[0;34m,\u001b[0m\u001b[0;34m\u001b[0m\u001b[0;34m\u001b[0m\u001b[0m\n\u001b[0;32m--> 530\u001b[0;31m         donated_invars=donated_invars, inline=inline, keep_unused=keep_unused)\n\u001b[0m\u001b[1;32m    531\u001b[0m     \u001b[0mout_pytree_def\u001b[0m \u001b[0;34m=\u001b[0m \u001b[0mout_tree\u001b[0m\u001b[0;34m(\u001b[0m\u001b[0;34m)\u001b[0m\u001b[0;34m\u001b[0m\u001b[0;34m\u001b[0m\u001b[0m\n\u001b[1;32m    532\u001b[0m     \u001b[0mout\u001b[0m \u001b[0;34m=\u001b[0m \u001b[0mtree_unflatten\u001b[0m\u001b[0;34m(\u001b[0m\u001b[0mout_pytree_def\u001b[0m\u001b[0;34m,\u001b[0m \u001b[0mout_flat\u001b[0m\u001b[0;34m)\u001b[0m\u001b[0;34m\u001b[0m\u001b[0;34m\u001b[0m\u001b[0m\n",
            "\u001b[0;32m/usr/local/lib/python3.7/dist-packages/jax/core.py\u001b[0m in \u001b[0;36mbind\u001b[0;34m(self, fun, *args, **params)\u001b[0m\n\u001b[1;32m   1935\u001b[0m \u001b[0;34m\u001b[0m\u001b[0m\n\u001b[1;32m   1936\u001b[0m   \u001b[0;32mdef\u001b[0m \u001b[0mbind\u001b[0m\u001b[0;34m(\u001b[0m\u001b[0mself\u001b[0m\u001b[0;34m,\u001b[0m \u001b[0mfun\u001b[0m\u001b[0;34m,\u001b[0m \u001b[0;34m*\u001b[0m\u001b[0margs\u001b[0m\u001b[0;34m,\u001b[0m \u001b[0;34m**\u001b[0m\u001b[0mparams\u001b[0m\u001b[0;34m)\u001b[0m\u001b[0;34m:\u001b[0m\u001b[0;34m\u001b[0m\u001b[0;34m\u001b[0m\u001b[0m\n\u001b[0;32m-> 1937\u001b[0;31m     \u001b[0;32mreturn\u001b[0m \u001b[0mcall_bind\u001b[0m\u001b[0;34m(\u001b[0m\u001b[0mself\u001b[0m\u001b[0;34m,\u001b[0m \u001b[0mfun\u001b[0m\u001b[0;34m,\u001b[0m \u001b[0;34m*\u001b[0m\u001b[0margs\u001b[0m\u001b[0;34m,\u001b[0m \u001b[0;34m**\u001b[0m\u001b[0mparams\u001b[0m\u001b[0;34m)\u001b[0m\u001b[0;34m\u001b[0m\u001b[0;34m\u001b[0m\u001b[0m\n\u001b[0m\u001b[1;32m   1938\u001b[0m \u001b[0;34m\u001b[0m\u001b[0m\n\u001b[1;32m   1939\u001b[0m   \u001b[0;32mdef\u001b[0m \u001b[0mget_bind_params\u001b[0m\u001b[0;34m(\u001b[0m\u001b[0mself\u001b[0m\u001b[0;34m,\u001b[0m \u001b[0mparams\u001b[0m\u001b[0;34m)\u001b[0m\u001b[0;34m:\u001b[0m\u001b[0;34m\u001b[0m\u001b[0;34m\u001b[0m\u001b[0m\n",
            "\u001b[0;32m/usr/local/lib/python3.7/dist-packages/jax/core.py\u001b[0m in \u001b[0;36mcall_bind\u001b[0;34m(primitive, fun, *args, **params)\u001b[0m\n\u001b[1;32m   1951\u001b[0m   \u001b[0mtracers\u001b[0m \u001b[0;34m=\u001b[0m \u001b[0mmap\u001b[0m\u001b[0;34m(\u001b[0m\u001b[0mtop_trace\u001b[0m\u001b[0;34m.\u001b[0m\u001b[0mfull_raise\u001b[0m\u001b[0;34m,\u001b[0m \u001b[0margs\u001b[0m\u001b[0;34m)\u001b[0m\u001b[0;34m\u001b[0m\u001b[0;34m\u001b[0m\u001b[0m\n\u001b[1;32m   1952\u001b[0m   \u001b[0mfun_\u001b[0m \u001b[0;34m=\u001b[0m \u001b[0mlu\u001b[0m\u001b[0;34m.\u001b[0m\u001b[0mannotate\u001b[0m\u001b[0;34m(\u001b[0m\u001b[0mfun_\u001b[0m\u001b[0;34m,\u001b[0m \u001b[0mfun\u001b[0m\u001b[0;34m.\u001b[0m\u001b[0min_type\u001b[0m\u001b[0;34m)\u001b[0m\u001b[0;34m\u001b[0m\u001b[0;34m\u001b[0m\u001b[0m\n\u001b[0;32m-> 1953\u001b[0;31m   \u001b[0mouts\u001b[0m \u001b[0;34m=\u001b[0m \u001b[0mtop_trace\u001b[0m\u001b[0;34m.\u001b[0m\u001b[0mprocess_call\u001b[0m\u001b[0;34m(\u001b[0m\u001b[0mprimitive\u001b[0m\u001b[0;34m,\u001b[0m \u001b[0mfun_\u001b[0m\u001b[0;34m,\u001b[0m \u001b[0mtracers\u001b[0m\u001b[0;34m,\u001b[0m \u001b[0mparams\u001b[0m\u001b[0;34m)\u001b[0m\u001b[0;34m\u001b[0m\u001b[0;34m\u001b[0m\u001b[0m\n\u001b[0m\u001b[1;32m   1954\u001b[0m   \u001b[0;32mreturn\u001b[0m \u001b[0mmap\u001b[0m\u001b[0;34m(\u001b[0m\u001b[0mfull_lower\u001b[0m\u001b[0;34m,\u001b[0m \u001b[0mapply_todos\u001b[0m\u001b[0;34m(\u001b[0m\u001b[0menv_trace_todo\u001b[0m\u001b[0;34m(\u001b[0m\u001b[0;34m)\u001b[0m\u001b[0;34m,\u001b[0m \u001b[0mouts\u001b[0m\u001b[0;34m)\u001b[0m\u001b[0;34m)\u001b[0m\u001b[0;34m\u001b[0m\u001b[0;34m\u001b[0m\u001b[0m\n\u001b[1;32m   1955\u001b[0m \u001b[0;34m\u001b[0m\u001b[0m\n",
            "\u001b[0;32m/usr/local/lib/python3.7/dist-packages/jax/core.py\u001b[0m in \u001b[0;36mprocess_call\u001b[0;34m(self, primitive, f, tracers, params)\u001b[0m\n\u001b[1;32m    685\u001b[0m \u001b[0;34m\u001b[0m\u001b[0m\n\u001b[1;32m    686\u001b[0m   \u001b[0;32mdef\u001b[0m \u001b[0mprocess_call\u001b[0m\u001b[0;34m(\u001b[0m\u001b[0mself\u001b[0m\u001b[0;34m,\u001b[0m \u001b[0mprimitive\u001b[0m\u001b[0;34m,\u001b[0m \u001b[0mf\u001b[0m\u001b[0;34m,\u001b[0m \u001b[0mtracers\u001b[0m\u001b[0;34m,\u001b[0m \u001b[0mparams\u001b[0m\u001b[0;34m)\u001b[0m\u001b[0;34m:\u001b[0m\u001b[0;34m\u001b[0m\u001b[0;34m\u001b[0m\u001b[0m\n\u001b[0;32m--> 687\u001b[0;31m     \u001b[0;32mreturn\u001b[0m \u001b[0mprimitive\u001b[0m\u001b[0;34m.\u001b[0m\u001b[0mimpl\u001b[0m\u001b[0;34m(\u001b[0m\u001b[0mf\u001b[0m\u001b[0;34m,\u001b[0m \u001b[0;34m*\u001b[0m\u001b[0mtracers\u001b[0m\u001b[0;34m,\u001b[0m \u001b[0;34m**\u001b[0m\u001b[0mparams\u001b[0m\u001b[0;34m)\u001b[0m\u001b[0;34m\u001b[0m\u001b[0;34m\u001b[0m\u001b[0m\n\u001b[0m\u001b[1;32m    688\u001b[0m   \u001b[0mprocess_map\u001b[0m \u001b[0;34m=\u001b[0m \u001b[0mprocess_call\u001b[0m\u001b[0;34m\u001b[0m\u001b[0;34m\u001b[0m\u001b[0m\n\u001b[1;32m    689\u001b[0m \u001b[0;34m\u001b[0m\u001b[0m\n",
            "\u001b[0;32m/usr/local/lib/python3.7/dist-packages/jax/_src/dispatch.py\u001b[0m in \u001b[0;36m_xla_call_impl\u001b[0;34m(***failed resolving arguments***)\u001b[0m\n\u001b[1;32m    207\u001b[0m     \u001b[0marg_specs\u001b[0m \u001b[0;34m=\u001b[0m \u001b[0;34m[\u001b[0m\u001b[0;34m(\u001b[0m\u001b[0;32mNone\u001b[0m\u001b[0;34m,\u001b[0m \u001b[0mgetattr\u001b[0m\u001b[0;34m(\u001b[0m\u001b[0mx\u001b[0m\u001b[0;34m,\u001b[0m \u001b[0;34m'_device'\u001b[0m\u001b[0;34m,\u001b[0m \u001b[0;32mNone\u001b[0m\u001b[0;34m)\u001b[0m\u001b[0;34m)\u001b[0m \u001b[0;32mfor\u001b[0m \u001b[0mx\u001b[0m \u001b[0;32min\u001b[0m \u001b[0margs\u001b[0m\u001b[0;34m]\u001b[0m\u001b[0;34m\u001b[0m\u001b[0;34m\u001b[0m\u001b[0m\n\u001b[1;32m    208\u001b[0m   compiled_fun = xla_callable(fun, device, backend, name, donated_invars,\n\u001b[0;32m--> 209\u001b[0;31m                               keep_unused, *arg_specs)\n\u001b[0m\u001b[1;32m    210\u001b[0m   \u001b[0;32mtry\u001b[0m\u001b[0;34m:\u001b[0m\u001b[0;34m\u001b[0m\u001b[0;34m\u001b[0m\u001b[0m\n\u001b[1;32m    211\u001b[0m     \u001b[0;32mreturn\u001b[0m \u001b[0mcompiled_fun\u001b[0m\u001b[0;34m(\u001b[0m\u001b[0;34m*\u001b[0m\u001b[0margs\u001b[0m\u001b[0;34m)\u001b[0m\u001b[0;34m\u001b[0m\u001b[0;34m\u001b[0m\u001b[0m\n",
            "\u001b[0;32m/usr/local/lib/python3.7/dist-packages/jax/linear_util.py\u001b[0m in \u001b[0;36mmemoized_fun\u001b[0;34m(fun, *args)\u001b[0m\n\u001b[1;32m    293\u001b[0m       \u001b[0mfun\u001b[0m\u001b[0;34m.\u001b[0m\u001b[0mpopulate_stores\u001b[0m\u001b[0;34m(\u001b[0m\u001b[0mstores\u001b[0m\u001b[0;34m)\u001b[0m\u001b[0;34m\u001b[0m\u001b[0;34m\u001b[0m\u001b[0m\n\u001b[1;32m    294\u001b[0m     \u001b[0;32melse\u001b[0m\u001b[0;34m:\u001b[0m\u001b[0;34m\u001b[0m\u001b[0;34m\u001b[0m\u001b[0m\n\u001b[0;32m--> 295\u001b[0;31m       \u001b[0mans\u001b[0m \u001b[0;34m=\u001b[0m \u001b[0mcall\u001b[0m\u001b[0;34m(\u001b[0m\u001b[0mfun\u001b[0m\u001b[0;34m,\u001b[0m \u001b[0;34m*\u001b[0m\u001b[0margs\u001b[0m\u001b[0;34m)\u001b[0m\u001b[0;34m\u001b[0m\u001b[0;34m\u001b[0m\u001b[0m\n\u001b[0m\u001b[1;32m    296\u001b[0m       \u001b[0mcache\u001b[0m\u001b[0;34m[\u001b[0m\u001b[0mkey\u001b[0m\u001b[0;34m]\u001b[0m \u001b[0;34m=\u001b[0m \u001b[0;34m(\u001b[0m\u001b[0mans\u001b[0m\u001b[0;34m,\u001b[0m \u001b[0mfun\u001b[0m\u001b[0;34m.\u001b[0m\u001b[0mstores\u001b[0m\u001b[0;34m)\u001b[0m\u001b[0;34m\u001b[0m\u001b[0;34m\u001b[0m\u001b[0m\n\u001b[1;32m    297\u001b[0m \u001b[0;34m\u001b[0m\u001b[0m\n",
            "\u001b[0;32m/usr/local/lib/python3.7/dist-packages/jax/_src/dispatch.py\u001b[0m in \u001b[0;36m_xla_callable_uncached\u001b[0;34m(fun, device, backend, name, donated_invars, keep_unused, *arg_specs)\u001b[0m\n\u001b[1;32m    256\u001b[0m                            donated_invars, keep_unused, *arg_specs):\n\u001b[1;32m    257\u001b[0m   return lower_xla_callable(fun, device, backend, name, donated_invars, False,\n\u001b[0;32m--> 258\u001b[0;31m                             keep_unused, *arg_specs).compile().unsafe_call\n\u001b[0m\u001b[1;32m    259\u001b[0m \u001b[0;34m\u001b[0m\u001b[0m\n\u001b[1;32m    260\u001b[0m \u001b[0mxla_callable\u001b[0m \u001b[0;34m=\u001b[0m \u001b[0mlu\u001b[0m\u001b[0;34m.\u001b[0m\u001b[0mcache\u001b[0m\u001b[0;34m(\u001b[0m\u001b[0m_xla_callable_uncached\u001b[0m\u001b[0;34m)\u001b[0m\u001b[0;34m\u001b[0m\u001b[0;34m\u001b[0m\u001b[0m\n",
            "\u001b[0;32m/usr/local/lib/python3.7/dist-packages/jax/_src/profiler.py\u001b[0m in \u001b[0;36mwrapper\u001b[0;34m(*args, **kwargs)\u001b[0m\n\u001b[1;32m    292\u001b[0m   \u001b[0;32mdef\u001b[0m \u001b[0mwrapper\u001b[0m\u001b[0;34m(\u001b[0m\u001b[0;34m*\u001b[0m\u001b[0margs\u001b[0m\u001b[0;34m,\u001b[0m \u001b[0;34m**\u001b[0m\u001b[0mkwargs\u001b[0m\u001b[0;34m)\u001b[0m\u001b[0;34m:\u001b[0m\u001b[0;34m\u001b[0m\u001b[0;34m\u001b[0m\u001b[0m\n\u001b[1;32m    293\u001b[0m     \u001b[0;32mwith\u001b[0m \u001b[0mTraceAnnotation\u001b[0m\u001b[0;34m(\u001b[0m\u001b[0mname\u001b[0m\u001b[0;34m,\u001b[0m \u001b[0;34m**\u001b[0m\u001b[0mdecorator_kwargs\u001b[0m\u001b[0;34m)\u001b[0m\u001b[0;34m:\u001b[0m\u001b[0;34m\u001b[0m\u001b[0;34m\u001b[0m\u001b[0m\n\u001b[0;32m--> 294\u001b[0;31m       \u001b[0;32mreturn\u001b[0m \u001b[0mfunc\u001b[0m\u001b[0;34m(\u001b[0m\u001b[0;34m*\u001b[0m\u001b[0margs\u001b[0m\u001b[0;34m,\u001b[0m \u001b[0;34m**\u001b[0m\u001b[0mkwargs\u001b[0m\u001b[0;34m)\u001b[0m\u001b[0;34m\u001b[0m\u001b[0;34m\u001b[0m\u001b[0m\n\u001b[0m\u001b[1;32m    295\u001b[0m     \u001b[0;32mreturn\u001b[0m \u001b[0mwrapper\u001b[0m\u001b[0;34m\u001b[0m\u001b[0;34m\u001b[0m\u001b[0m\n\u001b[1;32m    296\u001b[0m   \u001b[0;32mreturn\u001b[0m \u001b[0mwrapper\u001b[0m\u001b[0;34m\u001b[0m\u001b[0;34m\u001b[0m\u001b[0m\n",
            "\u001b[0;32m/usr/local/lib/python3.7/dist-packages/jax/_src/dispatch.py\u001b[0m in \u001b[0;36mlower_xla_callable\u001b[0;34m(fun, device, backend, name, donated_invars, always_lower, keep_unused, *arg_specs)\u001b[0m\n\u001b[1;32m    301\u001b[0m                         \"for jit in {elapsed_time} sec\"):\n\u001b[1;32m    302\u001b[0m     jaxpr, out_type, consts = pe.trace_to_jaxpr_final2(\n\u001b[0;32m--> 303\u001b[0;31m         fun, pe.debug_info_final(fun, \"jit\"))\n\u001b[0m\u001b[1;32m    304\u001b[0m   \u001b[0mout_avals\u001b[0m\u001b[0;34m,\u001b[0m \u001b[0mkept_outputs\u001b[0m \u001b[0;34m=\u001b[0m \u001b[0mutil\u001b[0m\u001b[0;34m.\u001b[0m\u001b[0munzip2\u001b[0m\u001b[0;34m(\u001b[0m\u001b[0mout_type\u001b[0m\u001b[0;34m)\u001b[0m\u001b[0;34m\u001b[0m\u001b[0;34m\u001b[0m\u001b[0m\n\u001b[1;32m    305\u001b[0m   \u001b[0;32mif\u001b[0m \u001b[0many\u001b[0m\u001b[0;34m(\u001b[0m\u001b[0misinstance\u001b[0m\u001b[0;34m(\u001b[0m\u001b[0mc\u001b[0m\u001b[0;34m,\u001b[0m \u001b[0mcore\u001b[0m\u001b[0;34m.\u001b[0m\u001b[0mTracer\u001b[0m\u001b[0;34m)\u001b[0m \u001b[0;32mfor\u001b[0m \u001b[0mc\u001b[0m \u001b[0;32min\u001b[0m \u001b[0mconsts\u001b[0m\u001b[0;34m)\u001b[0m\u001b[0;34m:\u001b[0m\u001b[0;34m\u001b[0m\u001b[0;34m\u001b[0m\u001b[0m\n",
            "\u001b[0;32m/usr/local/lib/python3.7/dist-packages/jax/_src/profiler.py\u001b[0m in \u001b[0;36mwrapper\u001b[0;34m(*args, **kwargs)\u001b[0m\n\u001b[1;32m    292\u001b[0m   \u001b[0;32mdef\u001b[0m \u001b[0mwrapper\u001b[0m\u001b[0;34m(\u001b[0m\u001b[0;34m*\u001b[0m\u001b[0margs\u001b[0m\u001b[0;34m,\u001b[0m \u001b[0;34m**\u001b[0m\u001b[0mkwargs\u001b[0m\u001b[0;34m)\u001b[0m\u001b[0;34m:\u001b[0m\u001b[0;34m\u001b[0m\u001b[0;34m\u001b[0m\u001b[0m\n\u001b[1;32m    293\u001b[0m     \u001b[0;32mwith\u001b[0m \u001b[0mTraceAnnotation\u001b[0m\u001b[0;34m(\u001b[0m\u001b[0mname\u001b[0m\u001b[0;34m,\u001b[0m \u001b[0;34m**\u001b[0m\u001b[0mdecorator_kwargs\u001b[0m\u001b[0;34m)\u001b[0m\u001b[0;34m:\u001b[0m\u001b[0;34m\u001b[0m\u001b[0;34m\u001b[0m\u001b[0m\n\u001b[0;32m--> 294\u001b[0;31m       \u001b[0;32mreturn\u001b[0m \u001b[0mfunc\u001b[0m\u001b[0;34m(\u001b[0m\u001b[0;34m*\u001b[0m\u001b[0margs\u001b[0m\u001b[0;34m,\u001b[0m \u001b[0;34m**\u001b[0m\u001b[0mkwargs\u001b[0m\u001b[0;34m)\u001b[0m\u001b[0;34m\u001b[0m\u001b[0;34m\u001b[0m\u001b[0m\n\u001b[0m\u001b[1;32m    295\u001b[0m     \u001b[0;32mreturn\u001b[0m \u001b[0mwrapper\u001b[0m\u001b[0;34m\u001b[0m\u001b[0;34m\u001b[0m\u001b[0m\n\u001b[1;32m    296\u001b[0m   \u001b[0;32mreturn\u001b[0m \u001b[0mwrapper\u001b[0m\u001b[0;34m\u001b[0m\u001b[0;34m\u001b[0m\u001b[0m\n",
            "\u001b[0;32m/usr/local/lib/python3.7/dist-packages/jax/interpreters/partial_eval.py\u001b[0m in \u001b[0;36mtrace_to_jaxpr_final2\u001b[0;34m(fun, debug_info)\u001b[0m\n\u001b[1;32m   2186\u001b[0m     \u001b[0mmain\u001b[0m\u001b[0;34m.\u001b[0m\u001b[0mjaxpr_stack\u001b[0m \u001b[0;34m=\u001b[0m \u001b[0;34m(\u001b[0m\u001b[0;34m)\u001b[0m  \u001b[0;31m# type: ignore\u001b[0m\u001b[0;34m\u001b[0m\u001b[0;34m\u001b[0m\u001b[0m\n\u001b[1;32m   2187\u001b[0m     \u001b[0;32mwith\u001b[0m \u001b[0mcore\u001b[0m\u001b[0;34m.\u001b[0m\u001b[0mnew_sublevel\u001b[0m\u001b[0;34m(\u001b[0m\u001b[0;34m)\u001b[0m\u001b[0;34m:\u001b[0m\u001b[0;34m\u001b[0m\u001b[0;34m\u001b[0m\u001b[0m\n\u001b[0;32m-> 2188\u001b[0;31m       \u001b[0mjaxpr\u001b[0m\u001b[0;34m,\u001b[0m \u001b[0mout_type\u001b[0m\u001b[0;34m,\u001b[0m \u001b[0mconsts\u001b[0m \u001b[0;34m=\u001b[0m \u001b[0mtrace_to_subjaxpr_dynamic2\u001b[0m\u001b[0;34m(\u001b[0m\u001b[0mfun\u001b[0m\u001b[0;34m,\u001b[0m \u001b[0mmain\u001b[0m\u001b[0;34m,\u001b[0m \u001b[0mdebug_info\u001b[0m\u001b[0;34m)\u001b[0m\u001b[0;34m\u001b[0m\u001b[0;34m\u001b[0m\u001b[0m\n\u001b[0m\u001b[1;32m   2189\u001b[0m     \u001b[0;32mdel\u001b[0m \u001b[0mfun\u001b[0m\u001b[0;34m,\u001b[0m \u001b[0mmain\u001b[0m\u001b[0;34m\u001b[0m\u001b[0;34m\u001b[0m\u001b[0m\n\u001b[1;32m   2190\u001b[0m   \u001b[0;32mreturn\u001b[0m \u001b[0mjaxpr\u001b[0m\u001b[0;34m,\u001b[0m \u001b[0mout_type\u001b[0m\u001b[0;34m,\u001b[0m \u001b[0mconsts\u001b[0m\u001b[0;34m\u001b[0m\u001b[0;34m\u001b[0m\u001b[0m\n",
            "\u001b[0;32m/usr/local/lib/python3.7/dist-packages/jax/interpreters/partial_eval.py\u001b[0m in \u001b[0;36mtrace_to_subjaxpr_dynamic2\u001b[0;34m(fun, main, debug_info)\u001b[0m\n\u001b[1;32m   2136\u001b[0m     \u001b[0min_tracers\u001b[0m \u001b[0;34m=\u001b[0m \u001b[0m_input_type_to_tracers\u001b[0m\u001b[0;34m(\u001b[0m\u001b[0mtrace\u001b[0m\u001b[0;34m.\u001b[0m\u001b[0mnew_arg\u001b[0m\u001b[0;34m,\u001b[0m \u001b[0min_avals\u001b[0m\u001b[0;34m)\u001b[0m\u001b[0;34m\u001b[0m\u001b[0;34m\u001b[0m\u001b[0m\n\u001b[1;32m   2137\u001b[0m     \u001b[0min_tracers_\u001b[0m \u001b[0;34m=\u001b[0m \u001b[0;34m[\u001b[0m\u001b[0mt\u001b[0m \u001b[0;32mfor\u001b[0m \u001b[0mt\u001b[0m\u001b[0;34m,\u001b[0m \u001b[0mkeep\u001b[0m \u001b[0;32min\u001b[0m \u001b[0mzip\u001b[0m\u001b[0;34m(\u001b[0m\u001b[0min_tracers\u001b[0m\u001b[0;34m,\u001b[0m \u001b[0mkeep_inputs\u001b[0m\u001b[0;34m)\u001b[0m \u001b[0;32mif\u001b[0m \u001b[0mkeep\u001b[0m\u001b[0;34m]\u001b[0m\u001b[0;34m\u001b[0m\u001b[0;34m\u001b[0m\u001b[0m\n\u001b[0;32m-> 2138\u001b[0;31m     \u001b[0mans\u001b[0m \u001b[0;34m=\u001b[0m \u001b[0mfun\u001b[0m\u001b[0;34m.\u001b[0m\u001b[0mcall_wrapped\u001b[0m\u001b[0;34m(\u001b[0m\u001b[0;34m*\u001b[0m\u001b[0min_tracers_\u001b[0m\u001b[0;34m)\u001b[0m\u001b[0;34m\u001b[0m\u001b[0;34m\u001b[0m\u001b[0m\n\u001b[0m\u001b[1;32m   2139\u001b[0m     \u001b[0mout_tracers\u001b[0m \u001b[0;34m=\u001b[0m \u001b[0mmap\u001b[0m\u001b[0;34m(\u001b[0m\u001b[0mtrace\u001b[0m\u001b[0;34m.\u001b[0m\u001b[0mfull_raise\u001b[0m\u001b[0;34m,\u001b[0m \u001b[0mans\u001b[0m\u001b[0;34m)\u001b[0m\u001b[0;34m\u001b[0m\u001b[0;34m\u001b[0m\u001b[0m\n\u001b[1;32m   2140\u001b[0m     \u001b[0mjaxpr\u001b[0m\u001b[0;34m,\u001b[0m \u001b[0mout_type\u001b[0m\u001b[0;34m,\u001b[0m \u001b[0mconsts\u001b[0m \u001b[0;34m=\u001b[0m \u001b[0mframe\u001b[0m\u001b[0;34m.\u001b[0m\u001b[0mto_jaxpr2\u001b[0m\u001b[0;34m(\u001b[0m\u001b[0mout_tracers\u001b[0m\u001b[0;34m)\u001b[0m\u001b[0;34m\u001b[0m\u001b[0;34m\u001b[0m\u001b[0m\n",
            "\u001b[0;32m/usr/local/lib/python3.7/dist-packages/jax/linear_util.py\u001b[0m in \u001b[0;36mcall_wrapped\u001b[0;34m(self, *args, **kwargs)\u001b[0m\n\u001b[1;32m    166\u001b[0m \u001b[0;34m\u001b[0m\u001b[0m\n\u001b[1;32m    167\u001b[0m     \u001b[0;32mtry\u001b[0m\u001b[0;34m:\u001b[0m\u001b[0;34m\u001b[0m\u001b[0;34m\u001b[0m\u001b[0m\n\u001b[0;32m--> 168\u001b[0;31m       \u001b[0mans\u001b[0m \u001b[0;34m=\u001b[0m \u001b[0mself\u001b[0m\u001b[0;34m.\u001b[0m\u001b[0mf\u001b[0m\u001b[0;34m(\u001b[0m\u001b[0;34m*\u001b[0m\u001b[0margs\u001b[0m\u001b[0;34m,\u001b[0m \u001b[0;34m**\u001b[0m\u001b[0mdict\u001b[0m\u001b[0;34m(\u001b[0m\u001b[0mself\u001b[0m\u001b[0;34m.\u001b[0m\u001b[0mparams\u001b[0m\u001b[0;34m,\u001b[0m \u001b[0;34m**\u001b[0m\u001b[0mkwargs\u001b[0m\u001b[0;34m)\u001b[0m\u001b[0;34m)\u001b[0m\u001b[0;34m\u001b[0m\u001b[0;34m\u001b[0m\u001b[0m\n\u001b[0m\u001b[1;32m    169\u001b[0m     \u001b[0;32mexcept\u001b[0m\u001b[0;34m:\u001b[0m\u001b[0;34m\u001b[0m\u001b[0;34m\u001b[0m\u001b[0m\n\u001b[1;32m    170\u001b[0m       \u001b[0;31m# Some transformations yield from inside context managers, so we have to\u001b[0m\u001b[0;34m\u001b[0m\u001b[0;34m\u001b[0m\u001b[0;34m\u001b[0m\u001b[0m\n",
            "\u001b[0;32m<ipython-input-5-d8b93db66544>\u001b[0m in \u001b[0;36mopt_update\u001b[0;34m(kernel_params, state)\u001b[0m\n\u001b[1;32m     35\u001b[0m     \u001b[0;34m@\u001b[0m\u001b[0mjax\u001b[0m\u001b[0;34m.\u001b[0m\u001b[0mjit\u001b[0m\u001b[0;34m\u001b[0m\u001b[0;34m\u001b[0m\u001b[0m\n\u001b[1;32m     36\u001b[0m     \u001b[0;32mdef\u001b[0m \u001b[0mopt_update\u001b[0m\u001b[0;34m(\u001b[0m\u001b[0mkernel_params\u001b[0m\u001b[0;34m,\u001b[0m \u001b[0mstate\u001b[0m\u001b[0;34m)\u001b[0m\u001b[0;34m:\u001b[0m\u001b[0;34m\u001b[0m\u001b[0;34m\u001b[0m\u001b[0m\n\u001b[0;32m---> 37\u001b[0;31m       \u001b[0;32mreturn\u001b[0m \u001b[0mopt\u001b[0m\u001b[0;34m.\u001b[0m\u001b[0mupdate\u001b[0m\u001b[0;34m(\u001b[0m\u001b[0mkernel_params\u001b[0m\u001b[0;34m,\u001b[0m \u001b[0mstate\u001b[0m\u001b[0;34m)\u001b[0m\u001b[0;34m\u001b[0m\u001b[0;34m\u001b[0m\u001b[0m\n\u001b[0m\u001b[1;32m     38\u001b[0m \u001b[0;34m\u001b[0m\u001b[0m\n\u001b[1;32m     39\u001b[0m     \u001b[0;32mfor\u001b[0m \u001b[0mstep\u001b[0m \u001b[0;32min\u001b[0m \u001b[0mrange\u001b[0m\u001b[0;34m(\u001b[0m\u001b[0mmaxiter\u001b[0m\u001b[0;34m)\u001b[0m\u001b[0;34m:\u001b[0m\u001b[0;34m\u001b[0m\u001b[0;34m\u001b[0m\u001b[0m\n",
            "\u001b[0;32m/usr/local/lib/python3.7/dist-packages/jaxopt/_src/lbfgs.py\u001b[0m in \u001b[0;36mupdate\u001b[0;34m(self, params, state, *args, **kwargs)\u001b[0m\n\u001b[1;32m    260\u001b[0m \u001b[0;34m\u001b[0m\u001b[0m\n\u001b[1;32m    261\u001b[0m     \u001b[0;32mif\u001b[0m \u001b[0mself\u001b[0m\u001b[0;34m.\u001b[0m\u001b[0muse_gamma\u001b[0m\u001b[0;34m:\u001b[0m\u001b[0;34m\u001b[0m\u001b[0;34m\u001b[0m\u001b[0m\n\u001b[0;32m--> 262\u001b[0;31m       \u001b[0mgamma\u001b[0m \u001b[0;34m=\u001b[0m \u001b[0mcompute_gamma\u001b[0m\u001b[0;34m(\u001b[0m\u001b[0mstate\u001b[0m\u001b[0;34m.\u001b[0m\u001b[0ms_history\u001b[0m\u001b[0;34m,\u001b[0m \u001b[0mstate\u001b[0m\u001b[0;34m.\u001b[0m\u001b[0my_history\u001b[0m\u001b[0;34m,\u001b[0m \u001b[0mprevious\u001b[0m\u001b[0;34m)\u001b[0m\u001b[0;34m\u001b[0m\u001b[0;34m\u001b[0m\u001b[0m\n\u001b[0m\u001b[1;32m    263\u001b[0m     \u001b[0;32melse\u001b[0m\u001b[0;34m:\u001b[0m\u001b[0;34m\u001b[0m\u001b[0;34m\u001b[0m\u001b[0m\n\u001b[1;32m    264\u001b[0m       \u001b[0mgamma\u001b[0m \u001b[0;34m=\u001b[0m \u001b[0;36m1.0\u001b[0m\u001b[0;34m\u001b[0m\u001b[0;34m\u001b[0m\u001b[0m\n",
            "\u001b[0;32m/usr/local/lib/python3.7/dist-packages/jaxopt/_src/lbfgs.py\u001b[0m in \u001b[0;36mcompute_gamma\u001b[0;34m(s_history, y_history, last)\u001b[0m\n\u001b[1;32m    115\u001b[0m \u001b[0;34m\u001b[0m\u001b[0m\n\u001b[1;32m    116\u001b[0m   \u001b[0mfun\u001b[0m \u001b[0;34m=\u001b[0m \u001b[0;32mlambda\u001b[0m \u001b[0ms_history\u001b[0m\u001b[0;34m,\u001b[0m \u001b[0my_history\u001b[0m\u001b[0;34m:\u001b[0m \u001b[0mtree_vdot\u001b[0m\u001b[0;34m(\u001b[0m\u001b[0my_history\u001b[0m\u001b[0;34m[\u001b[0m\u001b[0mlast\u001b[0m\u001b[0;34m]\u001b[0m\u001b[0;34m,\u001b[0m \u001b[0ms_history\u001b[0m\u001b[0;34m[\u001b[0m\u001b[0mlast\u001b[0m\u001b[0;34m]\u001b[0m\u001b[0;34m)\u001b[0m\u001b[0;34m\u001b[0m\u001b[0;34m\u001b[0m\u001b[0m\n\u001b[0;32m--> 117\u001b[0;31m   \u001b[0mnum\u001b[0m \u001b[0;34m=\u001b[0m \u001b[0mtree_sum\u001b[0m\u001b[0;34m(\u001b[0m\u001b[0mtree_map\u001b[0m\u001b[0;34m(\u001b[0m\u001b[0mfun\u001b[0m\u001b[0;34m,\u001b[0m \u001b[0ms_history\u001b[0m\u001b[0;34m,\u001b[0m \u001b[0my_history\u001b[0m\u001b[0;34m)\u001b[0m\u001b[0;34m)\u001b[0m\u001b[0;34m\u001b[0m\u001b[0;34m\u001b[0m\u001b[0m\n\u001b[0m\u001b[1;32m    118\u001b[0m \u001b[0;34m\u001b[0m\u001b[0m\n\u001b[1;32m    119\u001b[0m   \u001b[0mfun\u001b[0m \u001b[0;34m=\u001b[0m \u001b[0;32mlambda\u001b[0m \u001b[0my_history\u001b[0m\u001b[0;34m:\u001b[0m \u001b[0mtree_vdot\u001b[0m\u001b[0;34m(\u001b[0m\u001b[0my_history\u001b[0m\u001b[0;34m[\u001b[0m\u001b[0mlast\u001b[0m\u001b[0;34m]\u001b[0m\u001b[0;34m,\u001b[0m \u001b[0my_history\u001b[0m\u001b[0;34m[\u001b[0m\u001b[0mlast\u001b[0m\u001b[0;34m]\u001b[0m\u001b[0;34m)\u001b[0m\u001b[0;34m\u001b[0m\u001b[0;34m\u001b[0m\u001b[0m\n",
            "\u001b[0;32m/usr/local/lib/python3.7/dist-packages/jax/_src/tree_util.py\u001b[0m in \u001b[0;36mtree_map\u001b[0;34m(f, tree, is_leaf, *rest)\u001b[0m\n\u001b[1;32m    203\u001b[0m   \u001b[0mleaves\u001b[0m\u001b[0;34m,\u001b[0m \u001b[0mtreedef\u001b[0m \u001b[0;34m=\u001b[0m \u001b[0mtree_flatten\u001b[0m\u001b[0;34m(\u001b[0m\u001b[0mtree\u001b[0m\u001b[0;34m,\u001b[0m \u001b[0mis_leaf\u001b[0m\u001b[0;34m)\u001b[0m\u001b[0;34m\u001b[0m\u001b[0;34m\u001b[0m\u001b[0m\n\u001b[1;32m    204\u001b[0m   \u001b[0mall_leaves\u001b[0m \u001b[0;34m=\u001b[0m \u001b[0;34m[\u001b[0m\u001b[0mleaves\u001b[0m\u001b[0;34m]\u001b[0m \u001b[0;34m+\u001b[0m \u001b[0;34m[\u001b[0m\u001b[0mtreedef\u001b[0m\u001b[0;34m.\u001b[0m\u001b[0mflatten_up_to\u001b[0m\u001b[0;34m(\u001b[0m\u001b[0mr\u001b[0m\u001b[0;34m)\u001b[0m \u001b[0;32mfor\u001b[0m \u001b[0mr\u001b[0m \u001b[0;32min\u001b[0m \u001b[0mrest\u001b[0m\u001b[0;34m]\u001b[0m\u001b[0;34m\u001b[0m\u001b[0;34m\u001b[0m\u001b[0m\n\u001b[0;32m--> 205\u001b[0;31m   \u001b[0;32mreturn\u001b[0m \u001b[0mtreedef\u001b[0m\u001b[0;34m.\u001b[0m\u001b[0munflatten\u001b[0m\u001b[0;34m(\u001b[0m\u001b[0mf\u001b[0m\u001b[0;34m(\u001b[0m\u001b[0;34m*\u001b[0m\u001b[0mxs\u001b[0m\u001b[0;34m)\u001b[0m \u001b[0;32mfor\u001b[0m \u001b[0mxs\u001b[0m \u001b[0;32min\u001b[0m \u001b[0mzip\u001b[0m\u001b[0;34m(\u001b[0m\u001b[0;34m*\u001b[0m\u001b[0mall_leaves\u001b[0m\u001b[0;34m)\u001b[0m\u001b[0;34m)\u001b[0m\u001b[0;34m\u001b[0m\u001b[0;34m\u001b[0m\u001b[0m\n\u001b[0m\u001b[1;32m    206\u001b[0m \u001b[0;34m\u001b[0m\u001b[0m\n\u001b[1;32m    207\u001b[0m \u001b[0;32mdef\u001b[0m \u001b[0mbuild_tree\u001b[0m\u001b[0;34m(\u001b[0m\u001b[0mtreedef\u001b[0m\u001b[0;34m,\u001b[0m \u001b[0mxs\u001b[0m\u001b[0;34m)\u001b[0m\u001b[0;34m:\u001b[0m\u001b[0;34m\u001b[0m\u001b[0;34m\u001b[0m\u001b[0m\n",
            "\u001b[0;32m/usr/local/lib/python3.7/dist-packages/jax/_src/tree_util.py\u001b[0m in \u001b[0;36m<genexpr>\u001b[0;34m(.0)\u001b[0m\n\u001b[1;32m    203\u001b[0m   \u001b[0mleaves\u001b[0m\u001b[0;34m,\u001b[0m \u001b[0mtreedef\u001b[0m \u001b[0;34m=\u001b[0m \u001b[0mtree_flatten\u001b[0m\u001b[0;34m(\u001b[0m\u001b[0mtree\u001b[0m\u001b[0;34m,\u001b[0m \u001b[0mis_leaf\u001b[0m\u001b[0;34m)\u001b[0m\u001b[0;34m\u001b[0m\u001b[0;34m\u001b[0m\u001b[0m\n\u001b[1;32m    204\u001b[0m   \u001b[0mall_leaves\u001b[0m \u001b[0;34m=\u001b[0m \u001b[0;34m[\u001b[0m\u001b[0mleaves\u001b[0m\u001b[0;34m]\u001b[0m \u001b[0;34m+\u001b[0m \u001b[0;34m[\u001b[0m\u001b[0mtreedef\u001b[0m\u001b[0;34m.\u001b[0m\u001b[0mflatten_up_to\u001b[0m\u001b[0;34m(\u001b[0m\u001b[0mr\u001b[0m\u001b[0;34m)\u001b[0m \u001b[0;32mfor\u001b[0m \u001b[0mr\u001b[0m \u001b[0;32min\u001b[0m \u001b[0mrest\u001b[0m\u001b[0;34m]\u001b[0m\u001b[0;34m\u001b[0m\u001b[0;34m\u001b[0m\u001b[0m\n\u001b[0;32m--> 205\u001b[0;31m   \u001b[0;32mreturn\u001b[0m \u001b[0mtreedef\u001b[0m\u001b[0;34m.\u001b[0m\u001b[0munflatten\u001b[0m\u001b[0;34m(\u001b[0m\u001b[0mf\u001b[0m\u001b[0;34m(\u001b[0m\u001b[0;34m*\u001b[0m\u001b[0mxs\u001b[0m\u001b[0;34m)\u001b[0m \u001b[0;32mfor\u001b[0m \u001b[0mxs\u001b[0m \u001b[0;32min\u001b[0m \u001b[0mzip\u001b[0m\u001b[0;34m(\u001b[0m\u001b[0;34m*\u001b[0m\u001b[0mall_leaves\u001b[0m\u001b[0;34m)\u001b[0m\u001b[0;34m)\u001b[0m\u001b[0;34m\u001b[0m\u001b[0;34m\u001b[0m\u001b[0m\n\u001b[0m\u001b[1;32m    206\u001b[0m \u001b[0;34m\u001b[0m\u001b[0m\n\u001b[1;32m    207\u001b[0m \u001b[0;32mdef\u001b[0m \u001b[0mbuild_tree\u001b[0m\u001b[0;34m(\u001b[0m\u001b[0mtreedef\u001b[0m\u001b[0;34m,\u001b[0m \u001b[0mxs\u001b[0m\u001b[0;34m)\u001b[0m\u001b[0;34m:\u001b[0m\u001b[0;34m\u001b[0m\u001b[0;34m\u001b[0m\u001b[0m\n",
            "\u001b[0;32m/usr/local/lib/python3.7/dist-packages/jaxopt/_src/lbfgs.py\u001b[0m in \u001b[0;36m<lambda>\u001b[0;34m(s_history, y_history)\u001b[0m\n\u001b[1;32m    114\u001b[0m   \u001b[0;31m# Note that unlike BFGS, the initialization can change on every iteration.\u001b[0m\u001b[0;34m\u001b[0m\u001b[0;34m\u001b[0m\u001b[0;34m\u001b[0m\u001b[0m\n\u001b[1;32m    115\u001b[0m \u001b[0;34m\u001b[0m\u001b[0m\n\u001b[0;32m--> 116\u001b[0;31m   \u001b[0mfun\u001b[0m \u001b[0;34m=\u001b[0m \u001b[0;32mlambda\u001b[0m \u001b[0ms_history\u001b[0m\u001b[0;34m,\u001b[0m \u001b[0my_history\u001b[0m\u001b[0;34m:\u001b[0m \u001b[0mtree_vdot\u001b[0m\u001b[0;34m(\u001b[0m\u001b[0my_history\u001b[0m\u001b[0;34m[\u001b[0m\u001b[0mlast\u001b[0m\u001b[0;34m]\u001b[0m\u001b[0;34m,\u001b[0m \u001b[0ms_history\u001b[0m\u001b[0;34m[\u001b[0m\u001b[0mlast\u001b[0m\u001b[0;34m]\u001b[0m\u001b[0;34m)\u001b[0m\u001b[0;34m\u001b[0m\u001b[0;34m\u001b[0m\u001b[0m\n\u001b[0m\u001b[1;32m    117\u001b[0m   \u001b[0mnum\u001b[0m \u001b[0;34m=\u001b[0m \u001b[0mtree_sum\u001b[0m\u001b[0;34m(\u001b[0m\u001b[0mtree_map\u001b[0m\u001b[0;34m(\u001b[0m\u001b[0mfun\u001b[0m\u001b[0;34m,\u001b[0m \u001b[0ms_history\u001b[0m\u001b[0;34m,\u001b[0m \u001b[0my_history\u001b[0m\u001b[0;34m)\u001b[0m\u001b[0;34m)\u001b[0m\u001b[0;34m\u001b[0m\u001b[0;34m\u001b[0m\u001b[0m\n\u001b[1;32m    118\u001b[0m \u001b[0;34m\u001b[0m\u001b[0m\n",
            "\u001b[0;32m/usr/local/lib/python3.7/dist-packages/jax/core.py\u001b[0m in \u001b[0;36m__getitem__\u001b[0;34m(self, idx)\u001b[0m\n\u001b[1;32m    603\u001b[0m   \u001b[0;32mdef\u001b[0m \u001b[0m__rshift__\u001b[0m\u001b[0;34m(\u001b[0m\u001b[0mself\u001b[0m\u001b[0;34m,\u001b[0m \u001b[0mother\u001b[0m\u001b[0;34m)\u001b[0m\u001b[0;34m:\u001b[0m \u001b[0;32mreturn\u001b[0m \u001b[0mself\u001b[0m\u001b[0;34m.\u001b[0m\u001b[0maval\u001b[0m\u001b[0;34m.\u001b[0m\u001b[0m_rshift\u001b[0m\u001b[0;34m(\u001b[0m\u001b[0mself\u001b[0m\u001b[0;34m,\u001b[0m \u001b[0mother\u001b[0m\u001b[0;34m)\u001b[0m\u001b[0;34m\u001b[0m\u001b[0;34m\u001b[0m\u001b[0m\n\u001b[1;32m    604\u001b[0m   \u001b[0;32mdef\u001b[0m \u001b[0m__rrshift__\u001b[0m\u001b[0;34m(\u001b[0m\u001b[0mself\u001b[0m\u001b[0;34m,\u001b[0m \u001b[0mother\u001b[0m\u001b[0;34m)\u001b[0m\u001b[0;34m:\u001b[0m \u001b[0;32mreturn\u001b[0m \u001b[0mself\u001b[0m\u001b[0;34m.\u001b[0m\u001b[0maval\u001b[0m\u001b[0;34m.\u001b[0m\u001b[0m_rrshift\u001b[0m\u001b[0;34m(\u001b[0m\u001b[0mself\u001b[0m\u001b[0;34m,\u001b[0m \u001b[0mother\u001b[0m\u001b[0;34m)\u001b[0m\u001b[0;34m\u001b[0m\u001b[0;34m\u001b[0m\u001b[0m\n\u001b[0;32m--> 605\u001b[0;31m   \u001b[0;32mdef\u001b[0m \u001b[0m__getitem__\u001b[0m\u001b[0;34m(\u001b[0m\u001b[0mself\u001b[0m\u001b[0;34m,\u001b[0m \u001b[0midx\u001b[0m\u001b[0;34m)\u001b[0m\u001b[0;34m:\u001b[0m \u001b[0;32mreturn\u001b[0m \u001b[0mself\u001b[0m\u001b[0;34m.\u001b[0m\u001b[0maval\u001b[0m\u001b[0;34m.\u001b[0m\u001b[0m_getitem\u001b[0m\u001b[0;34m(\u001b[0m\u001b[0mself\u001b[0m\u001b[0;34m,\u001b[0m \u001b[0midx\u001b[0m\u001b[0;34m)\u001b[0m\u001b[0;34m\u001b[0m\u001b[0;34m\u001b[0m\u001b[0m\n\u001b[0m\u001b[1;32m    606\u001b[0m   \u001b[0;32mdef\u001b[0m \u001b[0m__nonzero__\u001b[0m\u001b[0;34m(\u001b[0m\u001b[0mself\u001b[0m\u001b[0;34m)\u001b[0m\u001b[0;34m:\u001b[0m \u001b[0;32mreturn\u001b[0m \u001b[0mself\u001b[0m\u001b[0;34m.\u001b[0m\u001b[0maval\u001b[0m\u001b[0;34m.\u001b[0m\u001b[0m_nonzero\u001b[0m\u001b[0;34m(\u001b[0m\u001b[0mself\u001b[0m\u001b[0;34m)\u001b[0m\u001b[0;34m\u001b[0m\u001b[0;34m\u001b[0m\u001b[0m\n\u001b[1;32m    607\u001b[0m   \u001b[0;32mdef\u001b[0m \u001b[0m__bool__\u001b[0m\u001b[0;34m(\u001b[0m\u001b[0mself\u001b[0m\u001b[0;34m)\u001b[0m\u001b[0;34m:\u001b[0m \u001b[0;32mreturn\u001b[0m \u001b[0mself\u001b[0m\u001b[0;34m.\u001b[0m\u001b[0maval\u001b[0m\u001b[0;34m.\u001b[0m\u001b[0m_bool\u001b[0m\u001b[0;34m(\u001b[0m\u001b[0mself\u001b[0m\u001b[0;34m)\u001b[0m\u001b[0;34m\u001b[0m\u001b[0;34m\u001b[0m\u001b[0m\n",
            "\u001b[0;32m/usr/local/lib/python3.7/dist-packages/jax/_src/numpy/lax_numpy.py\u001b[0m in \u001b[0;36m_rewriting_take\u001b[0;34m(arr, idx, indices_are_sorted, unique_indices, mode, fill_value)\u001b[0m\n\u001b[1;32m   3605\u001b[0m   \u001b[0mtreedef\u001b[0m\u001b[0;34m,\u001b[0m \u001b[0mstatic_idx\u001b[0m\u001b[0;34m,\u001b[0m \u001b[0mdynamic_idx\u001b[0m \u001b[0;34m=\u001b[0m \u001b[0m_split_index_for_jit\u001b[0m\u001b[0;34m(\u001b[0m\u001b[0midx\u001b[0m\u001b[0;34m,\u001b[0m \u001b[0marr\u001b[0m\u001b[0;34m.\u001b[0m\u001b[0mshape\u001b[0m\u001b[0;34m)\u001b[0m\u001b[0;34m\u001b[0m\u001b[0;34m\u001b[0m\u001b[0m\n\u001b[1;32m   3606\u001b[0m   return _gather(arr, treedef, static_idx, dynamic_idx, indices_are_sorted,\n\u001b[0;32m-> 3607\u001b[0;31m                  unique_indices, mode, fill_value)\n\u001b[0m\u001b[1;32m   3608\u001b[0m \u001b[0;34m\u001b[0m\u001b[0m\n\u001b[1;32m   3609\u001b[0m \u001b[0;31m# TODO(phawkins): re-enable jit after fixing excessive recompilation for\u001b[0m\u001b[0;34m\u001b[0m\u001b[0;34m\u001b[0m\u001b[0;34m\u001b[0m\u001b[0m\n",
            "\u001b[0;32m/usr/local/lib/python3.7/dist-packages/jax/_src/numpy/lax_numpy.py\u001b[0m in \u001b[0;36m_gather\u001b[0;34m(arr, treedef, static_idx, dynamic_idx, indices_are_sorted, unique_indices, mode, fill_value)\u001b[0m\n\u001b[1;32m   3613\u001b[0m             unique_indices, mode, fill_value):\n\u001b[1;32m   3614\u001b[0m   \u001b[0midx\u001b[0m \u001b[0;34m=\u001b[0m \u001b[0m_merge_static_and_dynamic_indices\u001b[0m\u001b[0;34m(\u001b[0m\u001b[0mtreedef\u001b[0m\u001b[0;34m,\u001b[0m \u001b[0mstatic_idx\u001b[0m\u001b[0;34m,\u001b[0m \u001b[0mdynamic_idx\u001b[0m\u001b[0;34m)\u001b[0m\u001b[0;34m\u001b[0m\u001b[0;34m\u001b[0m\u001b[0m\n\u001b[0;32m-> 3615\u001b[0;31m   \u001b[0mindexer\u001b[0m \u001b[0;34m=\u001b[0m \u001b[0m_index_to_gather\u001b[0m\u001b[0;34m(\u001b[0m\u001b[0mshape\u001b[0m\u001b[0;34m(\u001b[0m\u001b[0marr\u001b[0m\u001b[0;34m)\u001b[0m\u001b[0;34m,\u001b[0m \u001b[0midx\u001b[0m\u001b[0;34m)\u001b[0m  \u001b[0;31m# shared with _scatter_update\u001b[0m\u001b[0;34m\u001b[0m\u001b[0;34m\u001b[0m\u001b[0m\n\u001b[0m\u001b[1;32m   3616\u001b[0m   \u001b[0my\u001b[0m \u001b[0;34m=\u001b[0m \u001b[0marr\u001b[0m\u001b[0;34m\u001b[0m\u001b[0;34m\u001b[0m\u001b[0m\n\u001b[1;32m   3617\u001b[0m \u001b[0;34m\u001b[0m\u001b[0m\n",
            "\u001b[0;32m/usr/local/lib/python3.7/dist-packages/jax/_src/numpy/lax_numpy.py\u001b[0m in \u001b[0;36m_index_to_gather\u001b[0;34m(x_shape, idx, normalize_indices)\u001b[0m\n\u001b[1;32m   3813\u001b[0m         \u001b[0;31m# XLA gives error when indexing into an axis of size 0\u001b[0m\u001b[0;34m\u001b[0m\u001b[0;34m\u001b[0m\u001b[0;34m\u001b[0m\u001b[0m\n\u001b[1;32m   3814\u001b[0m         \u001b[0;32mraise\u001b[0m \u001b[0mIndexError\u001b[0m\u001b[0;34m(\u001b[0m\u001b[0;34mf\"index is out of bounds for axis {x_axis} with size 0\"\u001b[0m\u001b[0;34m)\u001b[0m\u001b[0;34m\u001b[0m\u001b[0;34m\u001b[0m\u001b[0m\n\u001b[0;32m-> 3815\u001b[0;31m       \u001b[0mi\u001b[0m \u001b[0;34m=\u001b[0m \u001b[0m_normalize_index\u001b[0m\u001b[0;34m(\u001b[0m\u001b[0mi\u001b[0m\u001b[0;34m,\u001b[0m \u001b[0mx_shape\u001b[0m\u001b[0;34m[\u001b[0m\u001b[0mx_axis\u001b[0m\u001b[0;34m]\u001b[0m\u001b[0;34m)\u001b[0m \u001b[0;32mif\u001b[0m \u001b[0mnormalize_indices\u001b[0m \u001b[0;32melse\u001b[0m \u001b[0mi\u001b[0m\u001b[0;34m\u001b[0m\u001b[0;34m\u001b[0m\u001b[0m\n\u001b[0m\u001b[1;32m   3816\u001b[0m       \u001b[0mi\u001b[0m \u001b[0;34m=\u001b[0m \u001b[0mlax\u001b[0m\u001b[0;34m.\u001b[0m\u001b[0mconvert_element_type\u001b[0m\u001b[0;34m(\u001b[0m\u001b[0mi\u001b[0m\u001b[0;34m,\u001b[0m \u001b[0mindex_dtype\u001b[0m\u001b[0;34m)\u001b[0m\u001b[0;34m\u001b[0m\u001b[0;34m\u001b[0m\u001b[0m\n\u001b[1;32m   3817\u001b[0m       \u001b[0mgather_indices\u001b[0m\u001b[0;34m.\u001b[0m\u001b[0mappend\u001b[0m\u001b[0;34m(\u001b[0m\u001b[0;34m(\u001b[0m\u001b[0mi\u001b[0m\u001b[0;34m,\u001b[0m \u001b[0mlen\u001b[0m\u001b[0;34m(\u001b[0m\u001b[0mgather_indices_shape\u001b[0m\u001b[0;34m)\u001b[0m\u001b[0;34m)\u001b[0m\u001b[0;34m)\u001b[0m\u001b[0;34m\u001b[0m\u001b[0;34m\u001b[0m\u001b[0m\n",
            "\u001b[0;32m/usr/local/lib/python3.7/dist-packages/jax/_src/numpy/lax_numpy.py\u001b[0m in \u001b[0;36m_normalize_index\u001b[0;34m(index, axis_size)\u001b[0m\n\u001b[1;32m   3488\u001b[0m   return lax.select(\n\u001b[1;32m   3489\u001b[0m     \u001b[0mlax\u001b[0m\u001b[0;34m.\u001b[0m\u001b[0mlt\u001b[0m\u001b[0;34m(\u001b[0m\u001b[0mindex\u001b[0m\u001b[0;34m,\u001b[0m \u001b[0m_lax_const\u001b[0m\u001b[0;34m(\u001b[0m\u001b[0mindex\u001b[0m\u001b[0;34m,\u001b[0m \u001b[0;36m0\u001b[0m\u001b[0;34m)\u001b[0m\u001b[0;34m)\u001b[0m\u001b[0;34m,\u001b[0m\u001b[0;34m\u001b[0m\u001b[0;34m\u001b[0m\u001b[0m\n\u001b[0;32m-> 3490\u001b[0;31m     \u001b[0mlax\u001b[0m\u001b[0;34m.\u001b[0m\u001b[0madd\u001b[0m\u001b[0;34m(\u001b[0m\u001b[0mindex\u001b[0m\u001b[0;34m,\u001b[0m \u001b[0maxis_size_val\u001b[0m\u001b[0;34m)\u001b[0m\u001b[0;34m,\u001b[0m\u001b[0;34m\u001b[0m\u001b[0;34m\u001b[0m\u001b[0m\n\u001b[0m\u001b[1;32m   3491\u001b[0m     index)\n\u001b[1;32m   3492\u001b[0m \u001b[0;34m\u001b[0m\u001b[0m\n",
            "\u001b[0;32m/usr/local/lib/python3.7/dist-packages/jax/_src/lax/lax.py\u001b[0m in \u001b[0;36madd\u001b[0;34m(x, y)\u001b[0m\n\u001b[1;32m    442\u001b[0m \u001b[0;32mdef\u001b[0m \u001b[0madd\u001b[0m\u001b[0;34m(\u001b[0m\u001b[0mx\u001b[0m\u001b[0;34m:\u001b[0m \u001b[0mArray\u001b[0m\u001b[0;34m,\u001b[0m \u001b[0my\u001b[0m\u001b[0;34m:\u001b[0m \u001b[0mArray\u001b[0m\u001b[0;34m)\u001b[0m \u001b[0;34m->\u001b[0m \u001b[0mArray\u001b[0m\u001b[0;34m:\u001b[0m\u001b[0;34m\u001b[0m\u001b[0;34m\u001b[0m\u001b[0m\n\u001b[1;32m    443\u001b[0m   \u001b[0;34mr\"\"\"Elementwise addition: :math:`x + y`.\"\"\"\u001b[0m\u001b[0;34m\u001b[0m\u001b[0;34m\u001b[0m\u001b[0m\n\u001b[0;32m--> 444\u001b[0;31m   \u001b[0;32mreturn\u001b[0m \u001b[0madd_p\u001b[0m\u001b[0;34m.\u001b[0m\u001b[0mbind\u001b[0m\u001b[0;34m(\u001b[0m\u001b[0mx\u001b[0m\u001b[0;34m,\u001b[0m \u001b[0my\u001b[0m\u001b[0;34m)\u001b[0m\u001b[0;34m\u001b[0m\u001b[0;34m\u001b[0m\u001b[0m\n\u001b[0m\u001b[1;32m    445\u001b[0m \u001b[0;34m\u001b[0m\u001b[0m\n\u001b[1;32m    446\u001b[0m \u001b[0;32mdef\u001b[0m \u001b[0msub\u001b[0m\u001b[0;34m(\u001b[0m\u001b[0mx\u001b[0m\u001b[0;34m:\u001b[0m \u001b[0mArray\u001b[0m\u001b[0;34m,\u001b[0m \u001b[0my\u001b[0m\u001b[0;34m:\u001b[0m \u001b[0mArray\u001b[0m\u001b[0;34m)\u001b[0m \u001b[0;34m->\u001b[0m \u001b[0mArray\u001b[0m\u001b[0;34m:\u001b[0m\u001b[0;34m\u001b[0m\u001b[0;34m\u001b[0m\u001b[0m\n",
            "\u001b[0;32m/usr/local/lib/python3.7/dist-packages/jax/core.py\u001b[0m in \u001b[0;36mbind\u001b[0;34m(self, *args, **params)\u001b[0m\n\u001b[1;32m    322\u001b[0m     assert (not config.jax_enable_checks or\n\u001b[1;32m    323\u001b[0m             all(isinstance(arg, Tracer) or valid_jaxtype(arg) for arg in args)), args\n\u001b[0;32m--> 324\u001b[0;31m     \u001b[0;32mreturn\u001b[0m \u001b[0mself\u001b[0m\u001b[0;34m.\u001b[0m\u001b[0mbind_with_trace\u001b[0m\u001b[0;34m(\u001b[0m\u001b[0mfind_top_trace\u001b[0m\u001b[0;34m(\u001b[0m\u001b[0margs\u001b[0m\u001b[0;34m)\u001b[0m\u001b[0;34m,\u001b[0m \u001b[0margs\u001b[0m\u001b[0;34m,\u001b[0m \u001b[0mparams\u001b[0m\u001b[0;34m)\u001b[0m\u001b[0;34m\u001b[0m\u001b[0;34m\u001b[0m\u001b[0m\n\u001b[0m\u001b[1;32m    325\u001b[0m \u001b[0;34m\u001b[0m\u001b[0m\n\u001b[1;32m    326\u001b[0m   \u001b[0;32mdef\u001b[0m \u001b[0mbind_with_trace\u001b[0m\u001b[0;34m(\u001b[0m\u001b[0mself\u001b[0m\u001b[0;34m,\u001b[0m \u001b[0mtrace\u001b[0m\u001b[0;34m,\u001b[0m \u001b[0margs\u001b[0m\u001b[0;34m,\u001b[0m \u001b[0mparams\u001b[0m\u001b[0;34m)\u001b[0m\u001b[0;34m:\u001b[0m\u001b[0;34m\u001b[0m\u001b[0;34m\u001b[0m\u001b[0m\n",
            "\u001b[0;32m/usr/local/lib/python3.7/dist-packages/jax/core.py\u001b[0m in \u001b[0;36mbind_with_trace\u001b[0;34m(self, trace, args, params)\u001b[0m\n\u001b[1;32m    325\u001b[0m \u001b[0;34m\u001b[0m\u001b[0m\n\u001b[1;32m    326\u001b[0m   \u001b[0;32mdef\u001b[0m \u001b[0mbind_with_trace\u001b[0m\u001b[0;34m(\u001b[0m\u001b[0mself\u001b[0m\u001b[0;34m,\u001b[0m \u001b[0mtrace\u001b[0m\u001b[0;34m,\u001b[0m \u001b[0margs\u001b[0m\u001b[0;34m,\u001b[0m \u001b[0mparams\u001b[0m\u001b[0;34m)\u001b[0m\u001b[0;34m:\u001b[0m\u001b[0;34m\u001b[0m\u001b[0;34m\u001b[0m\u001b[0m\n\u001b[0;32m--> 327\u001b[0;31m     \u001b[0mout\u001b[0m \u001b[0;34m=\u001b[0m \u001b[0mtrace\u001b[0m\u001b[0;34m.\u001b[0m\u001b[0mprocess_primitive\u001b[0m\u001b[0;34m(\u001b[0m\u001b[0mself\u001b[0m\u001b[0;34m,\u001b[0m \u001b[0mmap\u001b[0m\u001b[0;34m(\u001b[0m\u001b[0mtrace\u001b[0m\u001b[0;34m.\u001b[0m\u001b[0mfull_raise\u001b[0m\u001b[0;34m,\u001b[0m \u001b[0margs\u001b[0m\u001b[0;34m)\u001b[0m\u001b[0;34m,\u001b[0m \u001b[0mparams\u001b[0m\u001b[0;34m)\u001b[0m\u001b[0;34m\u001b[0m\u001b[0;34m\u001b[0m\u001b[0m\n\u001b[0m\u001b[1;32m    328\u001b[0m     \u001b[0;32mreturn\u001b[0m \u001b[0mmap\u001b[0m\u001b[0;34m(\u001b[0m\u001b[0mfull_lower\u001b[0m\u001b[0;34m,\u001b[0m \u001b[0mout\u001b[0m\u001b[0;34m)\u001b[0m \u001b[0;32mif\u001b[0m \u001b[0mself\u001b[0m\u001b[0;34m.\u001b[0m\u001b[0mmultiple_results\u001b[0m \u001b[0;32melse\u001b[0m \u001b[0mfull_lower\u001b[0m\u001b[0;34m(\u001b[0m\u001b[0mout\u001b[0m\u001b[0;34m)\u001b[0m\u001b[0;34m\u001b[0m\u001b[0;34m\u001b[0m\u001b[0m\n\u001b[1;32m    329\u001b[0m \u001b[0;34m\u001b[0m\u001b[0m\n",
            "\u001b[0;32m/usr/local/lib/python3.7/dist-packages/jax/interpreters/partial_eval.py\u001b[0m in \u001b[0;36mprocess_primitive\u001b[0;34m(self, primitive, tracers, params)\u001b[0m\n\u001b[1;32m   1815\u001b[0m     \u001b[0;32mif\u001b[0m \u001b[0mprimitive\u001b[0m \u001b[0;32min\u001b[0m \u001b[0mcustom_staging_rules\u001b[0m\u001b[0;34m:\u001b[0m\u001b[0;34m\u001b[0m\u001b[0;34m\u001b[0m\u001b[0m\n\u001b[1;32m   1816\u001b[0m       \u001b[0;32mreturn\u001b[0m \u001b[0mcustom_staging_rules\u001b[0m\u001b[0;34m[\u001b[0m\u001b[0mprimitive\u001b[0m\u001b[0;34m]\u001b[0m\u001b[0;34m(\u001b[0m\u001b[0mself\u001b[0m\u001b[0;34m,\u001b[0m \u001b[0;34m*\u001b[0m\u001b[0mtracers\u001b[0m\u001b[0;34m,\u001b[0m \u001b[0;34m**\u001b[0m\u001b[0mparams\u001b[0m\u001b[0;34m)\u001b[0m\u001b[0;34m\u001b[0m\u001b[0;34m\u001b[0m\u001b[0m\n\u001b[0;32m-> 1817\u001b[0;31m     \u001b[0;32mreturn\u001b[0m \u001b[0mself\u001b[0m\u001b[0;34m.\u001b[0m\u001b[0mdefault_process_primitive\u001b[0m\u001b[0;34m(\u001b[0m\u001b[0mprimitive\u001b[0m\u001b[0;34m,\u001b[0m \u001b[0mtracers\u001b[0m\u001b[0;34m,\u001b[0m \u001b[0mparams\u001b[0m\u001b[0;34m)\u001b[0m\u001b[0;34m\u001b[0m\u001b[0;34m\u001b[0m\u001b[0m\n\u001b[0m\u001b[1;32m   1818\u001b[0m \u001b[0;34m\u001b[0m\u001b[0m\n\u001b[1;32m   1819\u001b[0m   \u001b[0;32mdef\u001b[0m \u001b[0mdefault_process_primitive\u001b[0m\u001b[0;34m(\u001b[0m\u001b[0mself\u001b[0m\u001b[0;34m,\u001b[0m \u001b[0mprimitive\u001b[0m\u001b[0;34m,\u001b[0m \u001b[0mtracers\u001b[0m\u001b[0;34m,\u001b[0m \u001b[0mparams\u001b[0m\u001b[0;34m)\u001b[0m\u001b[0;34m:\u001b[0m\u001b[0;34m\u001b[0m\u001b[0;34m\u001b[0m\u001b[0m\n",
            "\u001b[0;32m/usr/local/lib/python3.7/dist-packages/jax/interpreters/partial_eval.py\u001b[0m in \u001b[0;36mdefault_process_primitive\u001b[0;34m(self, primitive, tracers, params)\u001b[0m\n\u001b[1;32m   1819\u001b[0m   \u001b[0;32mdef\u001b[0m \u001b[0mdefault_process_primitive\u001b[0m\u001b[0;34m(\u001b[0m\u001b[0mself\u001b[0m\u001b[0;34m,\u001b[0m \u001b[0mprimitive\u001b[0m\u001b[0;34m,\u001b[0m \u001b[0mtracers\u001b[0m\u001b[0;34m,\u001b[0m \u001b[0mparams\u001b[0m\u001b[0;34m)\u001b[0m\u001b[0;34m:\u001b[0m\u001b[0;34m\u001b[0m\u001b[0;34m\u001b[0m\u001b[0m\n\u001b[1;32m   1820\u001b[0m     \u001b[0mavals\u001b[0m \u001b[0;34m=\u001b[0m \u001b[0;34m[\u001b[0m\u001b[0mt\u001b[0m\u001b[0;34m.\u001b[0m\u001b[0maval\u001b[0m \u001b[0;32mfor\u001b[0m \u001b[0mt\u001b[0m \u001b[0;32min\u001b[0m \u001b[0mtracers\u001b[0m\u001b[0;34m]\u001b[0m\u001b[0;34m\u001b[0m\u001b[0;34m\u001b[0m\u001b[0m\n\u001b[0;32m-> 1821\u001b[0;31m     \u001b[0mout_avals\u001b[0m\u001b[0;34m,\u001b[0m \u001b[0meffects\u001b[0m \u001b[0;34m=\u001b[0m \u001b[0mprimitive\u001b[0m\u001b[0;34m.\u001b[0m\u001b[0mabstract_eval\u001b[0m\u001b[0;34m(\u001b[0m\u001b[0;34m*\u001b[0m\u001b[0mavals\u001b[0m\u001b[0;34m,\u001b[0m \u001b[0;34m**\u001b[0m\u001b[0mparams\u001b[0m\u001b[0;34m)\u001b[0m\u001b[0;34m\u001b[0m\u001b[0;34m\u001b[0m\u001b[0m\n\u001b[0m\u001b[1;32m   1822\u001b[0m     \u001b[0mout_avals\u001b[0m \u001b[0;34m=\u001b[0m \u001b[0;34m[\u001b[0m\u001b[0mout_avals\u001b[0m\u001b[0;34m]\u001b[0m \u001b[0;32mif\u001b[0m \u001b[0;32mnot\u001b[0m \u001b[0mprimitive\u001b[0m\u001b[0;34m.\u001b[0m\u001b[0mmultiple_results\u001b[0m \u001b[0;32melse\u001b[0m \u001b[0mout_avals\u001b[0m\u001b[0;34m\u001b[0m\u001b[0;34m\u001b[0m\u001b[0m\n\u001b[1;32m   1823\u001b[0m     \u001b[0msource_info\u001b[0m \u001b[0;34m=\u001b[0m \u001b[0msource_info_util\u001b[0m\u001b[0;34m.\u001b[0m\u001b[0mcurrent\u001b[0m\u001b[0;34m(\u001b[0m\u001b[0;34m)\u001b[0m\u001b[0;34m\u001b[0m\u001b[0;34m\u001b[0m\u001b[0m\n",
            "\u001b[0;32m/usr/local/lib/python3.7/dist-packages/jax/core.py\u001b[0m in \u001b[0;36mabstract_eval_\u001b[0;34m(*args, **kwargs)\u001b[0m\n\u001b[1;32m    358\u001b[0m \u001b[0;32mdef\u001b[0m \u001b[0m_effect_free_abstract_eval\u001b[0m\u001b[0;34m(\u001b[0m\u001b[0mabstract_eval\u001b[0m\u001b[0;34m)\u001b[0m\u001b[0;34m:\u001b[0m\u001b[0;34m\u001b[0m\u001b[0;34m\u001b[0m\u001b[0m\n\u001b[1;32m    359\u001b[0m   \u001b[0;32mdef\u001b[0m \u001b[0mabstract_eval_\u001b[0m\u001b[0;34m(\u001b[0m\u001b[0;34m*\u001b[0m\u001b[0margs\u001b[0m\u001b[0;34m,\u001b[0m \u001b[0;34m**\u001b[0m\u001b[0mkwargs\u001b[0m\u001b[0;34m)\u001b[0m\u001b[0;34m:\u001b[0m\u001b[0;34m\u001b[0m\u001b[0;34m\u001b[0m\u001b[0m\n\u001b[0;32m--> 360\u001b[0;31m     \u001b[0;32mreturn\u001b[0m \u001b[0mabstract_eval\u001b[0m\u001b[0;34m(\u001b[0m\u001b[0;34m*\u001b[0m\u001b[0margs\u001b[0m\u001b[0;34m,\u001b[0m \u001b[0;34m**\u001b[0m\u001b[0mkwargs\u001b[0m\u001b[0;34m)\u001b[0m\u001b[0;34m,\u001b[0m \u001b[0mno_effects\u001b[0m\u001b[0;34m\u001b[0m\u001b[0;34m\u001b[0m\u001b[0m\n\u001b[0m\u001b[1;32m    361\u001b[0m   \u001b[0;32mreturn\u001b[0m \u001b[0mabstract_eval_\u001b[0m\u001b[0;34m\u001b[0m\u001b[0;34m\u001b[0m\u001b[0m\n\u001b[1;32m    362\u001b[0m \u001b[0;34m\u001b[0m\u001b[0m\n",
            "\u001b[0;32m/usr/local/lib/python3.7/dist-packages/jax/_src/lax/utils.py\u001b[0m in \u001b[0;36mstandard_abstract_eval\u001b[0;34m(prim, shape_rule, dtype_rule, weak_type_rule, named_shape_rule, *avals, **kwargs)\u001b[0m\n\u001b[1;32m     65\u001b[0m   \u001b[0;32melif\u001b[0m \u001b[0mleast_specialized\u001b[0m \u001b[0;32mis\u001b[0m \u001b[0mcore\u001b[0m\u001b[0;34m.\u001b[0m\u001b[0mShapedArray\u001b[0m\u001b[0;34m:\u001b[0m\u001b[0;34m\u001b[0m\u001b[0;34m\u001b[0m\u001b[0m\n\u001b[1;32m     66\u001b[0m     return core.ShapedArray(shape_rule(*avals, **kwargs),\n\u001b[0;32m---> 67\u001b[0;31m                             \u001b[0mdtype_rule\u001b[0m\u001b[0;34m(\u001b[0m\u001b[0;34m*\u001b[0m\u001b[0mavals\u001b[0m\u001b[0;34m,\u001b[0m \u001b[0;34m**\u001b[0m\u001b[0mkwargs\u001b[0m\u001b[0;34m)\u001b[0m\u001b[0;34m,\u001b[0m \u001b[0mweak_type\u001b[0m\u001b[0;34m=\u001b[0m\u001b[0mweak_type\u001b[0m\u001b[0;34m,\u001b[0m\u001b[0;34m\u001b[0m\u001b[0;34m\u001b[0m\u001b[0m\n\u001b[0m\u001b[1;32m     68\u001b[0m                             named_shape=named_shape_rule(*avals, **kwargs))\n\u001b[1;32m     69\u001b[0m   \u001b[0;32melif\u001b[0m \u001b[0mleast_specialized\u001b[0m \u001b[0;32mis\u001b[0m \u001b[0mcore\u001b[0m\u001b[0;34m.\u001b[0m\u001b[0mDShapedArray\u001b[0m\u001b[0;34m:\u001b[0m\u001b[0;34m\u001b[0m\u001b[0;34m\u001b[0m\u001b[0m\n",
            "\u001b[0;32m/usr/local/lib/python3.7/dist-packages/jax/_src/lax/lax.py\u001b[0m in \u001b[0;36mnaryop_dtype_rule\u001b[0;34m(result_dtype, accepted_dtypes, name, *avals, **kwargs)\u001b[0m\n\u001b[1;32m   1471\u001b[0m   \u001b[0maval_dtypes\u001b[0m \u001b[0;34m=\u001b[0m \u001b[0;34m[\u001b[0m\u001b[0maval\u001b[0m\u001b[0;34m.\u001b[0m\u001b[0mdtype\u001b[0m \u001b[0;32mfor\u001b[0m \u001b[0maval\u001b[0m \u001b[0;32min\u001b[0m \u001b[0mavals\u001b[0m\u001b[0;34m]\u001b[0m\u001b[0;34m\u001b[0m\u001b[0;34m\u001b[0m\u001b[0m\n\u001b[1;32m   1472\u001b[0m   \u001b[0;32mfor\u001b[0m \u001b[0mi\u001b[0m\u001b[0;34m,\u001b[0m \u001b[0;34m(\u001b[0m\u001b[0maval_dtype\u001b[0m\u001b[0;34m,\u001b[0m \u001b[0mtypes\u001b[0m\u001b[0;34m)\u001b[0m \u001b[0;32min\u001b[0m \u001b[0menumerate\u001b[0m\u001b[0;34m(\u001b[0m\u001b[0mzip\u001b[0m\u001b[0;34m(\u001b[0m\u001b[0maval_dtypes\u001b[0m\u001b[0;34m,\u001b[0m \u001b[0maccepted_dtypes\u001b[0m\u001b[0;34m)\u001b[0m\u001b[0;34m)\u001b[0m\u001b[0;34m:\u001b[0m\u001b[0;34m\u001b[0m\u001b[0;34m\u001b[0m\u001b[0m\n\u001b[0;32m-> 1473\u001b[0;31m     \u001b[0;32mif\u001b[0m \u001b[0;32mnot\u001b[0m \u001b[0many\u001b[0m\u001b[0;34m(\u001b[0m\u001b[0mdtypes\u001b[0m\u001b[0;34m.\u001b[0m\u001b[0missubdtype\u001b[0m\u001b[0;34m(\u001b[0m\u001b[0maval_dtype\u001b[0m\u001b[0;34m,\u001b[0m \u001b[0mt\u001b[0m\u001b[0;34m)\u001b[0m \u001b[0;32mfor\u001b[0m \u001b[0mt\u001b[0m \u001b[0;32min\u001b[0m \u001b[0mtypes\u001b[0m\u001b[0;34m)\u001b[0m\u001b[0;34m:\u001b[0m\u001b[0;34m\u001b[0m\u001b[0;34m\u001b[0m\u001b[0m\n\u001b[0m\u001b[1;32m   1474\u001b[0m       \u001b[0;32mif\u001b[0m \u001b[0maval_dtype\u001b[0m \u001b[0;34m==\u001b[0m \u001b[0mdtypes\u001b[0m\u001b[0;34m.\u001b[0m\u001b[0mfloat0\u001b[0m\u001b[0;34m:\u001b[0m\u001b[0;34m\u001b[0m\u001b[0;34m\u001b[0m\u001b[0m\n\u001b[1;32m   1475\u001b[0m         raise TypeError(\n",
            "\u001b[0;32m/usr/local/lib/python3.7/dist-packages/jax/_src/lax/lax.py\u001b[0m in \u001b[0;36m<genexpr>\u001b[0;34m(.0)\u001b[0m\n\u001b[1;32m   1471\u001b[0m   \u001b[0maval_dtypes\u001b[0m \u001b[0;34m=\u001b[0m \u001b[0;34m[\u001b[0m\u001b[0maval\u001b[0m\u001b[0;34m.\u001b[0m\u001b[0mdtype\u001b[0m \u001b[0;32mfor\u001b[0m \u001b[0maval\u001b[0m \u001b[0;32min\u001b[0m \u001b[0mavals\u001b[0m\u001b[0;34m]\u001b[0m\u001b[0;34m\u001b[0m\u001b[0;34m\u001b[0m\u001b[0m\n\u001b[1;32m   1472\u001b[0m   \u001b[0;32mfor\u001b[0m \u001b[0mi\u001b[0m\u001b[0;34m,\u001b[0m \u001b[0;34m(\u001b[0m\u001b[0maval_dtype\u001b[0m\u001b[0;34m,\u001b[0m \u001b[0mtypes\u001b[0m\u001b[0;34m)\u001b[0m \u001b[0;32min\u001b[0m \u001b[0menumerate\u001b[0m\u001b[0;34m(\u001b[0m\u001b[0mzip\u001b[0m\u001b[0;34m(\u001b[0m\u001b[0maval_dtypes\u001b[0m\u001b[0;34m,\u001b[0m \u001b[0maccepted_dtypes\u001b[0m\u001b[0;34m)\u001b[0m\u001b[0;34m)\u001b[0m\u001b[0;34m:\u001b[0m\u001b[0;34m\u001b[0m\u001b[0;34m\u001b[0m\u001b[0m\n\u001b[0;32m-> 1473\u001b[0;31m     \u001b[0;32mif\u001b[0m \u001b[0;32mnot\u001b[0m \u001b[0many\u001b[0m\u001b[0;34m(\u001b[0m\u001b[0mdtypes\u001b[0m\u001b[0;34m.\u001b[0m\u001b[0missubdtype\u001b[0m\u001b[0;34m(\u001b[0m\u001b[0maval_dtype\u001b[0m\u001b[0;34m,\u001b[0m \u001b[0mt\u001b[0m\u001b[0;34m)\u001b[0m \u001b[0;32mfor\u001b[0m \u001b[0mt\u001b[0m \u001b[0;32min\u001b[0m \u001b[0mtypes\u001b[0m\u001b[0;34m)\u001b[0m\u001b[0;34m:\u001b[0m\u001b[0;34m\u001b[0m\u001b[0;34m\u001b[0m\u001b[0m\n\u001b[0m\u001b[1;32m   1474\u001b[0m       \u001b[0;32mif\u001b[0m \u001b[0maval_dtype\u001b[0m \u001b[0;34m==\u001b[0m \u001b[0mdtypes\u001b[0m\u001b[0;34m.\u001b[0m\u001b[0mfloat0\u001b[0m\u001b[0;34m:\u001b[0m\u001b[0;34m\u001b[0m\u001b[0;34m\u001b[0m\u001b[0m\n\u001b[1;32m   1475\u001b[0m         raise TypeError(\n",
            "\u001b[0;32m/usr/local/lib/python3.7/dist-packages/jax/_src/dtypes.py\u001b[0m in \u001b[0;36missubdtype\u001b[0;34m(a, b)\u001b[0m\n\u001b[1;32m    234\u001b[0m \u001b[0;34m\u001b[0m\u001b[0m\n\u001b[1;32m    235\u001b[0m \u001b[0;32mdef\u001b[0m \u001b[0missubdtype\u001b[0m\u001b[0;34m(\u001b[0m\u001b[0ma\u001b[0m\u001b[0;34m,\u001b[0m \u001b[0mb\u001b[0m\u001b[0;34m)\u001b[0m\u001b[0;34m:\u001b[0m\u001b[0;34m\u001b[0m\u001b[0;34m\u001b[0m\u001b[0m\n\u001b[0;32m--> 236\u001b[0;31m   \u001b[0;32mif\u001b[0m \u001b[0ma\u001b[0m \u001b[0;34m==\u001b[0m \u001b[0;34m\"bfloat16\"\u001b[0m\u001b[0;34m:\u001b[0m\u001b[0;34m\u001b[0m\u001b[0;34m\u001b[0m\u001b[0m\n\u001b[0m\u001b[1;32m    237\u001b[0m     \u001b[0ma\u001b[0m \u001b[0;34m=\u001b[0m \u001b[0mbfloat16\u001b[0m\u001b[0;34m\u001b[0m\u001b[0;34m\u001b[0m\u001b[0m\n\u001b[1;32m    238\u001b[0m   \u001b[0;32mif\u001b[0m \u001b[0ma\u001b[0m \u001b[0;34m==\u001b[0m \u001b[0mbfloat16\u001b[0m\u001b[0;34m:\u001b[0m\u001b[0;34m\u001b[0m\u001b[0;34m\u001b[0m\u001b[0m\n",
            "\u001b[0;31mKeyboardInterrupt\u001b[0m: "
          ]
        }
      ],
      "source": [
        "kernel = RBF_Kernel(gamma='scale')\n",
        "lbda = 0.05**0.5\n",
        "log_bounds = {'theta': jnp.array(1e-2), 'sigma': jnp.array(1e-1)}, {'theta': jnp.array(1e1), 'sigma': jnp.array(1e2)}\n",
        "kernel_params = optimize_gpr(kernel, log_bounds, X_train, X, y_train, y, lbda=lbda, maxiter=100, verbose=True, projected=True)"
      ]
    },
    {
      "cell_type": "code",
      "execution_count": null,
      "metadata": {
        "id": "2liYHos2LveQ"
      },
      "outputs": [],
      "source": [
        "Kxx = kernel(X_train, kernel_params)\n",
        "print('Condition number:', jnp.linalg.cond(Kxx))\n",
        "print('Params:', kernel_params)\n",
        "onp.set_printoptions(precision=6)\n",
        "if len(Kxx) <= 10:\n",
        "  print('Kernel:', Kxx)\n",
        "onp.set_printoptions(precision=4)\n",
        "print('[JAX    ] Log Marginal Likelihood:', gp_regression_likelihood(Kxx, y_train, lbda=lbda))\n",
        "print('[SKLEARN] Log Marginal Likelihood:', gp_regression_likelihood(gaussian_process.kernel_(X_train), y_train, lbda=lbda))\n",
        "delta = jnp.abs(gaussian_process.kernel_(X_train) - Kxx) / gaussian_process.kernel_(X_train)\n",
        "print(f\"Max Rel Error={jnp.max(delta)*100:.2f}%\")"
      ]
    },
    {
      "cell_type": "code",
      "execution_count": null,
      "metadata": {
        "id": "4a4bX9vc7dim"
      },
      "outputs": [],
      "source": [
        "mean_prediction, var_prediction = gp_process_prediction(kernel, kernel_params, X_train, X, y_train, lbda=lbda)\n",
        "std_prediction = var_prediction ** 0.5"
      ]
    },
    {
      "cell_type": "code",
      "execution_count": null,
      "metadata": {
        "id": "If50MlnT8X1E"
      },
      "outputs": [],
      "source": [
        "plt.plot(X, y, label=r\"$f(x) = x \\sin(x)$\", linestyle=\"dotted\")\n",
        "plt.scatter(X_train, y_train, label=\"Observations\")\n",
        "plt.plot(X, mean_prediction, label=\"Mean prediction\")\n",
        "plt.fill_between(\n",
        "    X.ravel(),\n",
        "    mean_prediction - 1.96 * std_prediction,\n",
        "    mean_prediction + 1.96 * std_prediction,\n",
        "    alpha=0.5,\n",
        "    label=r\"95% confidence interval\",\n",
        ")\n",
        "plt.legend()\n",
        "plt.xlabel(\"$x$\")\n",
        "plt.ylabel(\"$f(x)$\")\n",
        "_ = plt.title(\"Gaussian process regression on noise-free dataset\")"
      ]
    },
    {
      "cell_type": "markdown",
      "metadata": {
        "id": "xpKRP9Q1sj8K"
      },
      "source": [
        "## Sinkhorn Mu-GP"
      ]
    },
    {
      "cell_type": "code",
      "execution_count": null,
      "metadata": {
        "id": "OrmWXOQ7ovZU"
      },
      "outputs": [],
      "source": [
        "from typing import Any, Optional\n",
        "from dataclasses import dataclass\n",
        "\n",
        "from jaxopt.tree_util import tree_l2_norm\n",
        "\n",
        "from ott.geometry import pointcloud\n",
        "import ott.core.sinkhorn as sinkhorn\n",
        "\n",
        "\n",
        "@dataclass\n",
        "class SinkhornMuGPR:\n",
        "  \"\"\" Gaussian Process Regression with Sinkhorn Mu Kernel.\n",
        "\n",
        "  Attributes:\n",
        "    sinkhorn_epsilon: (float) regularization in Sinkhorn. Default: 1e-2.\n",
        "    kernel_fun: function that takes an array of shape (n, f) and return an array of shape (n, n)\n",
        "      kernel_fun(x)_ij = K(x_i, x_j) is the covariance matrix of the GP.\n",
        "    log_bounds bounds for Kernel parmateres\n",
        "  \"\"\"\n",
        "  maxiter: int = 1000\n",
        "  tol: float = 1e-3\n",
        "  sinkhorn_epsilon: float = 1e-1\n",
        "  kernel_fun: Any = RBF_Kernel\n",
        "  log_bounds: Optional[Any] = None\n",
        "  debug: bool = False\n",
        "  verbose: bool = False\n",
        "  lbda: float = 1e-1\n",
        "\n",
        "  def __post_init__(self):\n",
        "    if self.log_bounds is not None:\n",
        "      self.bounds = tuple(map(lambda d: {('log_'+k):jnp.log(v) for k, v in d.items()}, log_bounds))\n",
        "    else:\n",
        "      self.bounds = None\n",
        "\n",
        "  def compute_sinkhorn_embeddings(self, coordinates, weights, mu):\n",
        "    mu_cloud, mu_weights = mu\n",
        "\n",
        "    def sinkhorn_single_cloud(cloud_coords, cloud_weight):\n",
        "      geom = pointcloud.PointCloud(cloud_coords, mu_cloud,\n",
        "                                   epsilon=self.sinkhorn_epsilon)\n",
        "      out = sinkhorn.sinkhorn(geom, cloud_weight, mu_weights,\n",
        "                              lse_mode=True, implicit_differentiation=False)\n",
        "      return out.g\n",
        "\n",
        "    parallel_sinkhorn = jax.vmap(sinkhorn_single_cloud,\n",
        "                                 in_axes=(0, 0),\n",
        "                                 out_axes=0)\n",
        "    \n",
        "    g_mu_embeddings = parallel_sinkhorn(coordinates, weights)\n",
        "    return g_mu_embeddings\n",
        "\n",
        "  def _project_gp_params(self, gp_params):\n",
        "    if self.bounds is not None:\n",
        "      kernel_params = gp_params['kernel_params']\n",
        "      kernel_params = tree_map(jnp.clip, kernel_params, self.bounds[0], self.bounds[1])\n",
        "      gp_params = {'kernel_params':kernel_params, 'mu':gp_params['mu']}  # project params\n",
        "    return gp_params\n",
        "\n",
        "  def _g_mu(self, padded_cloud_X_train, gp_params):\n",
        "    coordinates, weights = padded_cloud_X_train\n",
        "    if self.debug:\n",
        "      return jnp.sum(coordinates * weights[:,:,jnp.newaxis], axis=1)\n",
        "    g_mu = self.compute_sinkhorn_embeddings(coordinates, weights, mu=gp_params['mu'])\n",
        "    return g_mu\n",
        "  \n",
        "  def gpr_mu(self, padded_cloud_X_train, y, gp_params):\n",
        "    \"\"\"GP regression for clouds.\n",
        "\n",
        "    N   : number of clouds\n",
        "    n   : maximum number of points in a cloud\n",
        "    d   : dimension of the space\n",
        "    mu  : support measure\n",
        "    K   : number of points in mu\n",
        "\n",
        "    Args:\n",
        "      padded_cloud_X_train: tuple of\n",
        "        coordinates: array of shape (N, n, d) and,\n",
        "        weights: array of shape (N, n)\n",
        "      y              : array of shape (N,)\n",
        "      gp_params      : parameters of Gaussian process\n",
        "\n",
        "    mu : array of shape (K, d)\n",
        "    \"\"\"\n",
        "    gp_params = self._project_gp_params(gp_params)\n",
        "    g_mu = self._g_mu(padded_cloud_X_train, gp_params)\n",
        "    Kxx  = self.kernel_fun(g_mu, gp_params['kernel_params'])\n",
        "    loss = -gp_regression_likelihood(Kxx, y, self.lbda)\n",
        "    return loss, Kxx\n",
        "\n",
        "  def pad_point_clouds(self, data):\n",
        "    # +1 for unified processing of all clouds including biggest one\n",
        "    max_cloud_size = max([cloud.shape[0] for cloud in data]) + 1\n",
        "\n",
        "    def pad_cloud(cloud):\n",
        "      delta = max_cloud_size - cloud.shape[0]\n",
        "      uniform = jnp.ones(cloud.shape[0]) / cloud.shape[0]\n",
        "      zeros = jnp.zeros(delta)\n",
        "      weights = jnp.concatenate([uniform, zeros], axis=0)\n",
        "      cloud = jnp.pad(cloud, pad_width=((0, delta), (0,0)), mode='mean')\n",
        "      return cloud, weights\n",
        "\n",
        "    data = list(map(pad_cloud, data))\n",
        "    coordinates = jnp.stack([t[0] for t in data])\n",
        "    weights = jnp.stack([t[1] for t in data])\n",
        "    return coordinates, weights\n",
        "\n",
        "  def init_mu(self, coordinates):\n",
        "    # mu_cloud = jnp.mean(coordinates, axis=1)  # Euclidean Barycenter\n",
        "    # mu_cloud = jnp.zeros((coordinates.shape[0], coordinates.shape[-1]))\n",
        "    mu_cloud = jnp.array([[0.25, 0.5], [0.75, 0.5], [0.5, 0.25], [0.5, 0.75], [0.5, 0.5]])\n",
        "    mu_weight = None\n",
        "    return mu_cloud, mu_weight\n",
        "\n",
        "  def _plot_step(self, step, padded_cloud_X_train, padded_cloud_X_test, y_train, y_test, gp_params, state):\n",
        "    X_train = self._g_mu(padded_cloud_X_train, gp_params)\n",
        "    X_test = self._g_mu(padded_cloud_X_test, gp_params)\n",
        "    Kxx = state.aux if state.aux is not None else self.kernel_fun(X_train, gp_params['kernel_params'])\n",
        "    preds, _ = gp_process_prediction(self.kernel_fun, gp_params['kernel_params'], X_train, X_test, y_train, lbda=self.lbda)\n",
        "    mse = jnp.mean((preds - y_test)**2)\n",
        "    print_params = {k: f\"{v:.3f}\" for k, v in self.kernel_fun.get_params(gp_params['kernel_params']).items()}\n",
        "    print(f\"[{step}] error={state.error:.3f} mse={mse:.6f} loss={state.value:.3f} params={print_params} CondNumber={jnp.linalg.cond(Kxx):,.1f}\")\n",
        "\n",
        "  def optimize_gpr(self, cloud_X_train, cloud_X_test, y_train, y_test):\n",
        "    \"\"\"GP regression for clouds.\n",
        "\n",
        "    N   : number of clouds\n",
        "    n_i : number of points in cloud i\n",
        "    d   : dimension of the space\n",
        "    mu  : support measure\n",
        "    K   : number of points in mu\n",
        "\n",
        "    Args:\n",
        "      cloud_X_train  : list of length N of arrays of shape (n_i, d)\n",
        "      cloud_X_test   : list of length N' of arrays of shape (n'_i, d)\n",
        "      y_train        : array of shape (N,)\n",
        "      y_test         : array of shape (N',)\n",
        "\n",
        "    mu : array of shape (K, d)\n",
        "\n",
        "    \"\"\"\n",
        "    padded_cloud_X_train = self.pad_point_clouds(cloud_X_train)\n",
        "    padded_cloud_X_test = self.pad_point_clouds(cloud_X_test)\n",
        "\n",
        "    kernel_params = self.kernel_fun.init_log_params()\n",
        "    mu_init = self.init_mu(padded_cloud_X_train[0])\n",
        "\n",
        "    gp_params = {'kernel_params': kernel_params, 'mu': mu_init}\n",
        "\n",
        "    def gpr_mu_step(gp_params):\n",
        "      return self.gpr_mu(padded_cloud_X_train, y_train, gp_params)\n",
        "\n",
        "    opt = LBFGS(fun=gpr_mu_step, has_aux=True, maxiter=self.maxiter, tol=self.tol, maxls=20)\n",
        "\n",
        "    mu_hist = [mu_init[0]]\n",
        "    if self.verbose:\n",
        "\n",
        "      state = opt.init_state(gp_params)\n",
        "      state = state._replace(value=gpr_mu_step(gp_params)[0], error=tree_l2_norm(opt.optimality_fun(gp_params)))\n",
        "      self._plot_step(0, padded_cloud_X_train, padded_cloud_X_test, y_train, y_test, gp_params, state)\n",
        "\n",
        "      @jax.jit\n",
        "      def opt_update(gp_params, state):\n",
        "        return opt.update(gp_params, state)\n",
        "\n",
        "      for step in range(self.maxiter):\n",
        "        gp_params, state = opt_update(gp_params, state)\n",
        "        gp_params = self._project_gp_params(gp_params)\n",
        "        mu_hist.append(gp_params['mu'][0])\n",
        "        print(' '.join([f'[{mu_p[0]:.3f}, {mu_p[1]:.3f}]' for mu_p in gp_params['mu'][0]]))\n",
        "        self._plot_step(step+1, padded_cloud_X_train, padded_cloud_X_test, y_train, y_test, gp_params, state)\n",
        "    else:\n",
        "      gp_params, state = opt.run(gp_params)\n",
        "      gp_params = self._project_gp_params(gp_params)\n",
        "      mu_hist.append(gp_params['mu'])\n",
        "      self._plot_step(state.iter_num, padded_cloud_X_train, padded_cloud_X_test, y_train, y_test, gp_params, state)\n",
        "    \n",
        "    return gp_params, mu_hist"
      ]
    },
    {
      "cell_type": "markdown",
      "metadata": {
        "id": "Ba2JvmtFIYbd"
      },
      "source": [
        "## Test on Toy Example"
      ]
    },
    {
      "cell_type": "code",
      "execution_count": null,
      "metadata": {
        "id": "kEbSqspIxi8G"
      },
      "outputs": [],
      "source": [
        "import matplotlib.pyplot as plt\n",
        "plt.rcParams[\"figure.figsize\"] = (16,9)"
      ]
    },
    {
      "cell_type": "code",
      "execution_count": null,
      "metadata": {
        "id": "lnMCQa8yBvIo"
      },
      "outputs": [],
      "source": [
        "import numpy as onp\n",
        "import jax\n",
        "import jax.numpy as jnp\n",
        "\n",
        "def targets_ground_truth(points, sigmas):\n",
        "  m1, m2 = points[:,0], points[:,1]\n",
        "  targets = (m1 - m2**2) / (1 + jnp.squeeze(sigmas))\n",
        "  return targets\n",
        "\n",
        "def generate_meta_dataset(key, ds_size, sigmas_bounds):\n",
        "  key_1, key_2 = jax.random.split(key)\n",
        "  min_sigma, max_sigma = sigmas_bounds\n",
        "  means = jax.random.uniform(key_1, shape=(ds_size, 2), minval=0.2, maxval=0.8)\n",
        "  sigmas = jax.random.uniform(key_2, shape=(ds_size, 1), minval=min_sigma, maxval=max_sigma)\n",
        "  targets = targets_ground_truth(means, sigmas)\n",
        "  return targets, (means, sigmas)\n",
        "\n",
        "def generate_sample_dataset(key, ds_size, num_points, sigmas_bounds):\n",
        "  key_1, key_2 = jax.random.split(key)\n",
        "  targets, (means, sigmas) = generate_meta_dataset(key_1, ds_size, sigmas_bounds)\n",
        "  sample = means[:,jnp.newaxis,:] + jax.random.normal(key_2, shape=(ds_size, num_points, 2)) * sigmas[:,jnp.newaxis,:]\n",
        "  return sample, targets"
      ]
    },
    {
      "cell_type": "code",
      "execution_count": null,
      "metadata": {
        "id": "SaSjaF1MBnAQ"
      },
      "outputs": [],
      "source": [
        "key = jax.random.PRNGKey(61378)\n",
        "ds_size = 100\n",
        "num_points = 50 #50 * 50\n",
        "min_sigma = 0.01\n",
        "max_sigma = 0.02 \n",
        "sample_ds, target_ds = generate_sample_dataset(key, ds_size, num_points, (min_sigma, max_sigma))"
      ]
    },
    {
      "cell_type": "code",
      "execution_count": null,
      "metadata": {
        "id": "5MuN8ARMBnFL"
      },
      "outputs": [],
      "source": [
        "from sklearn.model_selection import train_test_split\n",
        "test_size = 0.6\n",
        "sample_train, sample_test, target_train, target_test = train_test_split(sample_ds, target_ds, test_size=test_size, shuffle=True, random_state=89)"
      ]
    },
    {
      "cell_type": "code",
      "execution_count": null,
      "metadata": {
        "id": "Oq2TtnIEBnHP"
      },
      "outputs": [],
      "source": [
        "import matplotlib.pyplot as plt\n",
        "import ott\n",
        "\n",
        "resolution = 50\n",
        "x_thicks = jnp.linspace(0, 1, resolution)\n",
        "y_thicks = jnp.linspace(0, 1, resolution)\n",
        "x_grid, y_grid = jnp.meshgrid(x_thicks, y_thicks)\n",
        "grid = jnp.stack([x_grid.ravel(), y_grid.ravel()], axis=-1)"
      ]
    },
    {
      "cell_type": "code",
      "execution_count": null,
      "metadata": {
        "id": "hixVNdhMxliy"
      },
      "outputs": [],
      "source": [
        "def plot_ground_truth(sigmas):\n",
        "  targets_grid = targets_ground_truth(grid, sigmas)\n",
        "  plt.imshow(targets_grid.reshape((resolution, resolution)), origin='lower')"
      ]
    },
    {
      "cell_type": "code",
      "execution_count": null,
      "metadata": {
        "colab": {
          "base_uri": "https://localhost:8080/",
          "height": 537
        },
        "id": "xKCEnSKQqoEP",
        "outputId": "21c2e4a6-50f2-4d8a-fa31-47f7fee69113"
      },
      "outputs": [
        {
          "output_type": "display_data",
          "data": {
            "text/plain": [
              "<Figure size 1152x648 with 1 Axes>"
            ],
            "image/png": "[encoded data removed]"
          },
          "metadata": {
            "needs_background": "light"
          }
        }
      ],
      "source": [
        "import matplotlib.cm as cm\n",
        "\n",
        "def plot_ds(sample_train, target_train):\n",
        "  min_sample, max_sample = target_train.min(), target_train.max()\n",
        "  for sample, target in zip(sample_train, target_train):\n",
        "    r = (target - min_sample) / (max_sample - min_sample)\n",
        "    color = cm.viridis(r)\n",
        "    s = jnp.exp(target) / 20\n",
        "    plt.scatter(sample[:,0], sample[:,1], s=s, color=color)\n",
        "plot_ds(sample_train, target_train)"
      ]
    },
    {
      "cell_type": "code",
      "execution_count": null,
      "metadata": {
        "colab": {
          "base_uri": "https://localhost:8080/"
        },
        "outputId": "39af07c5-1884-45af-8ccc-8b3428557288",
        "id": "2PdbscVUXyo1"
      },
      "outputs": [
        {
          "output_type": "stream",
          "name": "stdout",
          "text": [
            "[0] error=9.691 mse=0.000022 loss=-115.578 params={'theta': '1.000', 'sigma': '1.000'} CondNumber=2,078,093,731,183.5\n",
            "[0.159, 2.149] [0.576, -1.767] [2.549, -1.261] [-1.187, 2.558] [1.140, -0.241]\n",
            "[1] error=5.352 mse=0.000044 loss=-117.332 params={'sigma': '4.606', 'theta': '0.400'} CondNumber=2,078,101,087,389.0\n",
            "[0.212, 2.175] [0.511, -1.835] [2.566, -1.238] [-1.199, 2.563] [1.147, -0.224]\n",
            "[2] error=7.006 mse=0.000039 loss=-117.460 params={'sigma': '4.328', 'theta': '0.459'} CondNumber=131,147,578,705.2\n",
            "[0.219, 2.148] [0.508, -1.801] [2.530, -1.208] [-1.169, 2.531] [1.136, -0.208]\n",
            "[3] error=4.868 mse=0.000038 loss=-117.728 params={'sigma': '4.454', 'theta': '0.457'} CondNumber=82,757,451,791.5\n",
            "[0.226, 2.127] [0.504, -1.776] [2.503, -1.184] [-1.147, 2.506] [1.128, -0.195]\n",
            "[4] error=3.824 mse=0.000038 loss=-117.847 params={'sigma': '4.518', 'theta': '0.457'} CondNumber=111,842,640,815.5\n",
            "[0.239, 2.103] [0.494, -1.751] [2.470, -1.153] [-1.120, 2.476] [1.118, -0.177]\n",
            "[5] error=3.112 mse=0.000038 loss=-117.955 params={'sigma': '4.573', 'theta': '0.458'} CondNumber=134,011,561,658.5\n",
            "[0.274, 2.053] [0.466, -1.703] [2.397, -1.081] [-1.064, 2.409] [1.098, -0.133]\n",
            "[6] error=2.682 mse=0.000038 loss=-118.139 params={'sigma': '4.631', 'theta': '0.462'} CondNumber=161,971,407,757.9\n",
            "[0.426, 1.869] [0.343, -1.540] [2.123, -0.796] [-0.852, 2.154] [1.022, 0.041]\n",
            "[7] error=3.487 mse=0.000037 loss=-118.702 params={'sigma': '4.675', 'theta': '0.481'} CondNumber=228,159,070,902.6\n",
            "[0.739, 1.514] [0.089, -1.239] [1.599, -0.235] [-0.461, 1.655] [0.883, 0.397]\n",
            "[8] error=5.622 mse=0.000029 loss=-119.566 params={'sigma': '4.666', 'theta': '0.585'} CondNumber=855,943,543,709.5\n",
            "[0.686, 1.581] [0.137, -1.305] [1.711, -0.345] [-0.558, 1.755] [0.915, 0.338]\n",
            "[9] error=5.987 mse=0.000027 loss=-119.750 params={'sigma': '4.640', 'theta': '0.752'} CondNumber=6,004,750,746,281.6\n",
            "[0.752, 1.500] [0.087, -1.237] [1.603, -0.228] [-0.484, 1.650] [0.886, 0.417]\n",
            "[10] error=2.600 mse=0.000026 loss=-120.052 params={'sigma': '4.706', 'theta': '0.731'} CondNumber=3,521,872,933,903.9\n",
            "[0.765, 1.479] [0.081, -1.219] [1.579, -0.204] [-0.470, 1.629] [0.878, 0.434]\n",
            "[11] error=1.755 mse=0.000026 loss=-120.087 params={'sigma': '4.744', 'theta': '0.731'} CondNumber=6,415,874,970,037.8\n",
            "[0.765, 1.479] [0.081, -1.219] [1.579, -0.204] [-0.470, 1.628] [0.878, 0.434]\n",
            "[12] error=1.751 mse=0.000026 loss=-120.088 params={'sigma': '4.744', 'theta': '0.731'} CondNumber=7,716,318,601,882.0\n",
            "[0.765, 1.479] [0.081, -1.219] [1.579, -0.204] [-0.470, 1.628] [0.878, 0.434]\n",
            "[13] error=1.751 mse=0.000026 loss=-120.088 params={'sigma': '4.744', 'theta': '0.731'} CondNumber=7,728,254,206,055.3\n",
            "[0.765, 1.479] [0.081, -1.219] [1.579, -0.204] [-0.470, 1.628] [0.878, 0.434]\n",
            "[14] error=1.751 mse=0.000026 loss=-120.088 params={'sigma': '4.744', 'theta': '0.731'} CondNumber=7,728,954,799,250.5\n",
            "[0.765, 1.479] [0.081, -1.219] [1.579, -0.204] [-0.470, 1.628] [0.878, 0.434]\n",
            "[15] error=1.751 mse=0.000026 loss=-120.088 params={'sigma': '4.744', 'theta': '0.731'} CondNumber=7,729,112,718,554.6\n",
            "[0.792, 1.351] [0.138, -1.146] [1.463, -0.149] [-0.433, 1.612] [0.817, 0.510]\n",
            "[16] error=3.812 mse=0.000024 loss=-120.147 params={'sigma': '5.077', 'theta': '0.786'} CondNumber=7,728,945,297,776.0\n",
            "[0.788, 1.370] [0.131, -1.158] [1.482, -0.158] [-0.440, 1.616] [0.826, 0.499]\n",
            "[17] error=4.472 mse=0.000023 loss=-120.173 params={'sigma': '5.021', 'theta': '0.985'} CondNumber=18,423,421,683,031.1\n",
            "[0.798, 1.326] [0.151, -1.136] [1.441, -0.139] [-0.424, 1.614] [0.805, 0.525]\n",
            "[18] error=1.544 mse=0.000023 loss=-120.333 params={'sigma': '5.134', 'theta': '0.950'} CondNumber=16,170,243,512,967.2\n",
            "[0.801, 1.309] [0.160, -1.131] [1.427, -0.133] [-0.416, 1.617] [0.797, 0.534]\n",
            "[19] error=0.787 mse=0.000023 loss=-120.352 params={'sigma': '5.174', 'theta': '0.943'} CondNumber=20,926,767,070,730.6\n",
            "[0.803, 1.297] [0.168, -1.130] [1.418, -0.129] [-0.410, 1.624] [0.791, 0.541]\n",
            "[20] error=0.641 mse=0.000023 loss=-120.361 params={'sigma': '5.194', 'theta': '0.945'} CondNumber=22,854,586,949,110.3\n",
            "[0.810, 1.257] [0.196, -1.135] [1.395, -0.119] [-0.389, 1.656] [0.773, 0.563]\n",
            "[21] error=0.632 mse=0.000023 loss=-120.384 params={'sigma': '5.210', 'theta': '0.952'} CondNumber=23,821,953,471,220.9\n",
            "[0.827, 1.161] [0.253, -1.141] [1.369, -0.095] [-0.355, 1.733] [0.733, 0.613]\n",
            "[22] error=0.784 mse=0.000024 loss=-120.416 params={'sigma': '5.215', 'theta': '0.970'} CondNumber=25,487,418,215,901.2\n",
            "[0.843, 1.108] [0.277, -1.137] [1.392, -0.074] [-0.360, 1.767] [0.712, 0.639]\n",
            "[23] error=0.800 mse=0.000025 loss=-120.445 params={'sigma': '5.221', 'theta': '0.996'} CondNumber=27,412,756,234,687.7\n",
            "[0.869, 1.019] [0.320, -1.132] [1.409, -0.039] [-0.356, 1.823] [0.675, 0.684]\n",
            "[24] error=0.684 mse=0.000026 loss=-120.464 params={'sigma': '5.255', 'theta': '0.997'} CondNumber=24,607,117,199,826.8\n",
            "[0.901, 0.960] [0.344, -1.132] [1.453, 0.000] [-0.375, 1.854] [0.646, 0.714]\n",
            "[25] error=0.773 mse=0.000027 loss=-120.485 params={'sigma': '5.270', 'theta': '1.006'} CondNumber=22,751,800,405,035.6\n",
            "[0.952, 0.883] [0.373, -1.143] [1.487, 0.062] [-0.380, 1.892] [0.610, 0.756]\n",
            "[26] error=0.760 mse=0.000028 loss=-120.508 params={'sigma': '5.305', 'theta': '1.001'} CondNumber=18,267,420,189,175.5\n",
            "[1.123, 0.655] [0.473, -1.237] [1.568, 0.289] [-0.362, 2.003] [0.508, 0.883]\n",
            "[27] error=2.181 mse=0.000031 loss=-120.548 params={'sigma': '5.370', 'theta': '0.997'} CondNumber=27,452,441,028,185.8\n",
            "[1.061, 0.762] [0.424, -1.211] [1.532, 0.210] [-0.365, 1.940] [0.556, 0.823]\n",
            "[28] error=1.723 mse=0.000030 loss=-120.555 params={'sigma': '5.570', 'theta': '0.969'} CondNumber=20,409,326,417,527.6\n",
            "[1.172, 0.664] [0.472, -1.305] [1.571, 0.366] [-0.341, 1.975] [0.512, 0.878]\n",
            "[29] error=1.875 mse=0.000031 loss=-120.589 params={'sigma': '5.492', 'theta': '0.995'} CondNumber=65,817,020,278,795.8\n",
            "[1.141, 0.711] [0.453, -1.292] [1.556, 0.324] [-0.345, 1.951] [0.533, 0.852]\n",
            "[30] error=0.407 mse=0.000030 loss=-120.613 params={'sigma': '5.581', 'theta': '0.980'} CondNumber=22,096,213,802,940.1\n"
          ]
        }
      ],
      "source": [
        "rbf = RBF_Kernel(gamma='auto')\n",
        "lbda = 1e-2\n",
        "sinkhorn_epsilon = 1e-2\n",
        "log_bounds = {'theta': jnp.array(1e-2), 'sigma': jnp.array(1e-2)}, {'theta': jnp.array(1e2), 'sigma': jnp.array(1e2)}\n",
        "mu_gpr = SinkhornMuGPR(kernel_fun=rbf, debug=False, verbose=True, maxiter=30, log_bounds=log_bounds, lbda=lbda, sinkhorn_epsilon=sinkhorn_epsilon)\n",
        "gp_params, mu_hist = mu_gpr.optimize_gpr(list(sample_train), list(sample_test), target_train, target_test)"
      ]
    },
    {
      "cell_type": "code",
      "execution_count": null,
      "metadata": {
        "colab": {
          "base_uri": "https://localhost:8080/",
          "height": 537
        },
        "id": "ETXsiS_FXyo6",
        "outputId": "a9d76ad5-b196-4c3e-f4b7-f29642d5b31b"
      },
      "outputs": [
        {
          "output_type": "display_data",
          "data": {
            "text/plain": [
              "<Figure size 1152x648 with 1 Axes>"
            ],
            "image/png": "[encoded data removed]"
          },
          "metadata": {
            "needs_background": "light"
          }
        }
      ],
      "source": [
        "for i in range(len(mu_hist[0])):\n",
        "  x = [mu[i,0] for mu in mu_hist]\n",
        "  y = [mu[i,1] for mu in mu_hist]\n",
        "  plt.plot(x,y,'-*')"
      ]
    },
    {
      "cell_type": "code",
      "execution_count": null,
      "metadata": {
        "colab": {
          "base_uri": "https://localhost:8080/"
        },
        "outputId": "f832a4d6-5f66-4b97-8d75-7fe665371a36",
        "id": "HvJeJlXrXyo-"
      },
      "outputs": [
        {
          "output_type": "stream",
          "name": "stdout",
          "text": [
            "Condition number: 30946298691.93739\n",
            "Params: 0.402**2 * RBF(length_scale=2.23)\n",
            "Log Marginal Likelihood: 3.340129642660507\n",
            "[SKLEARN] TrainSetSize=40 mae=0.04194 rmse=0.05853 evs=0.94016\n",
            "[MEAN] TrainSetSize=40 mae=0.19332 rmse=0.23865 evs=-0.00000\n"
          ]
        }
      ],
      "source": [
        "from sklearn.gaussian_process import GaussianProcessRegressor\n",
        "from sklearn.gaussian_process.kernels import RBF\n",
        "from sklearn.metrics import mean_squared_error, mean_absolute_error, explained_variance_score\n",
        "\n",
        "X_train = mu_gpr._g_mu(mu_gpr.pad_point_clouds(sample_train), gp_params)\n",
        "X_test = mu_gpr._g_mu(mu_gpr.pad_point_clouds(sample_test), gp_params)\n",
        "\n",
        "sk_kernel = 1 * RBF(length_scale=1.0, length_scale_bounds=(5e-2, 1e2))\n",
        "gaussian_process = GaussianProcessRegressor(kernel=sk_kernel, n_restarts_optimizer=10, alpha=lbda**0.5)\n",
        "gaussian_process.fit(X_train, target_train)\n",
        "print('Condition number:', jnp.linalg.cond(gaussian_process.kernel_(X_train)))\n",
        "print('Params:', gaussian_process.kernel_)\n",
        "onp.set_printoptions(precision=6)\n",
        "if len(X_train) <= 10:\n",
        "  print('Kernel:', gaussian_process.kernel_(X_train))\n",
        "onp.set_printoptions(precision=4)\n",
        "print('Log Marginal Likelihood:', gaussian_process.log_marginal_likelihood_value_)\n",
        "test_pred = gaussian_process.predict(X_test)\n",
        "evs = explained_variance_score(target_test, test_pred)\n",
        "rmse = mean_squared_error(target_test, test_pred, squared=False)\n",
        "mae = mean_absolute_error(target_test, test_pred)\n",
        "msg = f\"[SKLEARN] TrainSetSize={len(X_train)} mae={mae:.5f} rmse={rmse:.5f} evs={evs:.5f}\"\n",
        "print(msg)\n",
        "test_pred = jnp.mean(target_test) * jnp.ones_like(target_test)\n",
        "evs = explained_variance_score(target_test, test_pred)\n",
        "rmse = mean_squared_error(target_test, test_pred, squared=False)\n",
        "mae = mean_absolute_error(target_test, test_pred)\n",
        "msg = f\"[MEAN] TrainSetSize={len(X_train)} mae={mae:.5f} rmse={rmse:.5f} evs={evs:.5f}\"\n",
        "print(msg)"
      ]
    },
    {
      "cell_type": "code",
      "execution_count": null,
      "metadata": {
        "colab": {
          "base_uri": "https://localhost:8080/"
        },
        "outputId": "d6445bbf-ccb8-4dab-a46b-1debbaf7b543",
        "id": "Dt0-i8vLXypB"
      },
      "outputs": [
        {
          "output_type": "stream",
          "name": "stdout",
          "text": [
            "Condition number: 32771967472747.4\n",
            "Params: {'sigma': '5.581', 'theta': '0.980'}\n",
            "[JAX    ] Log Marginal Likelihood: 120.61339064270985\n",
            "[SKLEARN] Log Marginal Likelihood: 115.72334169744468\n",
            "Max Rel Error=1224.46%\n",
            "[JAX] TrainSetSize=40 mae=0.00406 rmse=0.00548 evs=0.99947\n"
          ]
        }
      ],
      "source": [
        "Kxx = mu_gpr.kernel_fun(X_train, gp_params['kernel_params'])\n",
        "print('Condition number:', jnp.linalg.cond(Kxx))\n",
        "print('Params:', {k: f\"{v:.3f}\" for k, v in mu_gpr.kernel_fun.get_params(gp_params['kernel_params']).items()})\n",
        "onp.set_printoptions(precision=6)\n",
        "if len(Kxx) <= 10:\n",
        "  print('Kernel:', Kxx)\n",
        "onp.set_printoptions(precision=4)\n",
        "print('[JAX    ] Log Marginal Likelihood:', gp_regression_likelihood(Kxx, target_train, lbda=lbda))\n",
        "print('[SKLEARN] Log Marginal Likelihood:', gp_regression_likelihood(gaussian_process.kernel_(X_train), target_train, lbda=lbda))\n",
        "delta = jnp.abs(gaussian_process.kernel_(X_train) - Kxx) / gaussian_process.kernel_(X_train)\n",
        "print(f\"Max Rel Error={jnp.max(delta)*100:.2f}%\")\n",
        "test_pred, _ = gp_process_prediction(mu_gpr.kernel_fun, gp_params['kernel_params'], X_train, X_test, target_train, lbda=lbda)\n",
        "evs = explained_variance_score(target_test, test_pred)\n",
        "rmse = mean_squared_error(target_test, test_pred, squared=False)\n",
        "mae = mean_absolute_error(target_test, test_pred)\n",
        "msg = f\"[JAX] TrainSetSize={len(X_train)} mae={mae:.5f} rmse={rmse:.5f} evs={evs:.5f}\"\n",
        "print(msg)"
      ]
    },
    {
      "cell_type": "code",
      "source": [],
      "metadata": {
        "id": "fqHhp_qnLBSY"
      },
      "execution_count": null,
      "outputs": []
    }
  ],
  "metadata": {
    "colab": {
      "collapsed_sections": [],
      "provenance": []
    },
    "kernelspec": {
      "display_name": "Python 3",
      "name": "python3"
    },
    "language_info": {
      "name": "python"
    }
  },
  "nbformat": 4,
  "nbformat_minor": 0
}